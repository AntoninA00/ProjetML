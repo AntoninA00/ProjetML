{
 "cells": [
  {
   "cell_type": "markdown",
   "id": "8c96828f",
   "metadata": {},
   "source": [
    "# Projet Machine Learning"
   ]
  },
  {
   "cell_type": "markdown",
   "id": "c57b73c5",
   "metadata": {},
   "source": [
    "Antonin Arsac \\\n",
    "Mathilde Perez"
   ]
  },
  {
   "cell_type": "code",
   "execution_count": 9,
   "id": "b5e049df",
   "metadata": {},
   "outputs": [],
   "source": [
    "import pandas as pd\n",
    "import numpy as np\n",
    "import matplotlib.pyplot as plt\n",
    "import h5py\n",
    "\n",
    "from keras.models import load_model\n",
    "from tensorflow.keras.optimizers import Adam "
   ]
  },
  {
   "cell_type": "markdown",
   "id": "fd148657",
   "metadata": {},
   "source": [
    "### Chargements de dataframe"
   ]
  },
  {
   "cell_type": "code",
   "execution_count": 22,
   "id": "a5a23ae9",
   "metadata": {},
   "outputs": [],
   "source": [
    "df_cardio1=pd.read_csv(\"./data/annotations/cardiologist1.csv\")\n",
    "df_cardio2=pd.read_csv(\"./data/annotations/cardiologist2.csv\")\n",
    "df_cardior=pd.read_csv(\"./data/annotations/cardiology_residents.csv\")\n",
    "df_dnn=pd.read_csv(\"./data/annotations/dnn.csv\")\n",
    "df_emergency=pd.read_csv(\"./data/annotations/emergency_residents.csv\")\n",
    "df_gold_s=pd.read_csv(\"./data/annotations/gold_standard.csv\")\n",
    "df_students=pd.read_csv(\"./data/annotations/medical_students.csv\")\n",
    "df_attributes=pd.read_csv(\"./data/attributes.csv\")"
   ]
  },
  {
   "cell_type": "markdown",
   "id": "2e3d723b",
   "metadata": {},
   "source": [
    "### Predictions"
   ]
  },
  {
   "cell_type": "code",
   "execution_count": 13,
   "id": "894eb547",
   "metadata": {
    "scrolled": true
   },
   "outputs": [
    {
     "name": "stdout",
     "output_type": "stream",
     "text": [
      "26/26 [==============================] - 8s 312ms/step\n",
      "Output predictions saved\n"
     ]
    }
   ],
   "source": [
    "import argparse\n",
    "#warnings.filterwarnings(\"ignore\")\n",
    "from tensorflow.keras.models import load_model\n",
    "from tensorflow.keras.optimizers import Adam\n",
    "from datasets import ECGSequence\n",
    "\n",
    "\n",
    "if __name__ == '__main__':\n",
    "    parser = argparse.ArgumentParser(description='Get performance on test set from hdf5')\n",
    "    parser.add_argument('path_to_hdf5', type=str,\n",
    "                        help='path to hdf5 file containing tracings')\n",
    "    parser.add_argument('path_to_model',  # or model_date_order.hdf5\n",
    "                        help='file containing training model.')\n",
    "    parser.add_argument('--dataset_name', type=str, default='tracings',\n",
    "                        help='name of the hdf5 dataset containing tracings')\n",
    "    parser.add_argument('--output_file', default=\"./dnn_output.npy\",  # or predictions_date_order.csv\n",
    "                        help='output csv file.')\n",
    "    parser.add_argument('-bs', type=int, default=32,\n",
    "                        help='Batch size.')\n",
    "\n",
    "    args, unk = parser.parse_known_args([\"./data/ecg_tracings.hdf5\",\"./model/model.hdf5\"])\n",
    "    if unk:\n",
    "        warnings.warn(\"Unknown arguments:\" + str(unk) + \".\")\n",
    "\n",
    "    # Import data\n",
    "    seq = ECGSequence(args.path_to_hdf5, args.dataset_name, batch_size=args.bs)\n",
    "    # Import model\n",
    "    model = load_model(args.path_to_model, compile=False)\n",
    "    model.compile(loss='binary_crossentropy', optimizer=Adam())\n",
    "    y_score = model.predict(seq,  verbose=1)\n",
    "\n",
    "    # Generate dataframe\n",
    "    np.save(args.output_file, y_score)\n",
    "\n",
    "    print(\"Output predictions saved\")\n"
   ]
  },
  {
   "cell_type": "code",
   "execution_count": 39,
   "id": "ea6ebad7",
   "metadata": {},
   "outputs": [
    {
     "data": {
      "text/html": [
       "<div>\n",
       "<style scoped>\n",
       "    .dataframe tbody tr th:only-of-type {\n",
       "        vertical-align: middle;\n",
       "    }\n",
       "\n",
       "    .dataframe tbody tr th {\n",
       "        vertical-align: top;\n",
       "    }\n",
       "\n",
       "    .dataframe thead th {\n",
       "        text-align: right;\n",
       "    }\n",
       "</style>\n",
       "<table border=\"1\" class=\"dataframe\">\n",
       "  <thead>\n",
       "    <tr style=\"text-align: right;\">\n",
       "      <th></th>\n",
       "      <th>1dAVb</th>\n",
       "      <th>RBBB</th>\n",
       "      <th>LBBB</th>\n",
       "      <th>SB</th>\n",
       "      <th>AF</th>\n",
       "      <th>ST</th>\n",
       "    </tr>\n",
       "  </thead>\n",
       "  <tbody>\n",
       "    <tr>\n",
       "      <th>0</th>\n",
       "      <td>1.424320e-06</td>\n",
       "      <td>1.071004e-07</td>\n",
       "      <td>2.633708e-07</td>\n",
       "      <td>4.537746e-07</td>\n",
       "      <td>9.485395e-07</td>\n",
       "      <td>6.413513e-09</td>\n",
       "    </tr>\n",
       "    <tr>\n",
       "      <th>1</th>\n",
       "      <td>2.889732e-02</td>\n",
       "      <td>2.006710e-03</td>\n",
       "      <td>3.177863e-01</td>\n",
       "      <td>2.827815e-05</td>\n",
       "      <td>4.834345e-02</td>\n",
       "      <td>3.205240e-04</td>\n",
       "    </tr>\n",
       "    <tr>\n",
       "      <th>2</th>\n",
       "      <td>3.112853e-04</td>\n",
       "      <td>2.940376e-05</td>\n",
       "      <td>4.175250e-06</td>\n",
       "      <td>1.971317e-05</td>\n",
       "      <td>9.349018e-03</td>\n",
       "      <td>2.493307e-05</td>\n",
       "    </tr>\n",
       "    <tr>\n",
       "      <th>3</th>\n",
       "      <td>2.396902e-09</td>\n",
       "      <td>1.734487e-09</td>\n",
       "      <td>6.939341e-10</td>\n",
       "      <td>8.173860e-10</td>\n",
       "      <td>5.682133e-09</td>\n",
       "      <td>2.767264e-10</td>\n",
       "    </tr>\n",
       "    <tr>\n",
       "      <th>4</th>\n",
       "      <td>5.306005e-04</td>\n",
       "      <td>3.533459e-06</td>\n",
       "      <td>3.394171e-07</td>\n",
       "      <td>1.430139e-06</td>\n",
       "      <td>2.242625e-04</td>\n",
       "      <td>4.707761e-06</td>\n",
       "    </tr>\n",
       "    <tr>\n",
       "      <th>...</th>\n",
       "      <td>...</td>\n",
       "      <td>...</td>\n",
       "      <td>...</td>\n",
       "      <td>...</td>\n",
       "      <td>...</td>\n",
       "      <td>...</td>\n",
       "    </tr>\n",
       "    <tr>\n",
       "      <th>822</th>\n",
       "      <td>2.662169e-06</td>\n",
       "      <td>2.271630e-07</td>\n",
       "      <td>1.546320e-07</td>\n",
       "      <td>1.969670e-07</td>\n",
       "      <td>1.191893e-05</td>\n",
       "      <td>3.100990e-08</td>\n",
       "    </tr>\n",
       "    <tr>\n",
       "      <th>823</th>\n",
       "      <td>4.383028e-04</td>\n",
       "      <td>1.032207e-05</td>\n",
       "      <td>1.012705e-04</td>\n",
       "      <td>4.085047e-08</td>\n",
       "      <td>8.352697e-04</td>\n",
       "      <td>6.998916e-07</td>\n",
       "    </tr>\n",
       "    <tr>\n",
       "      <th>824</th>\n",
       "      <td>6.078311e-07</td>\n",
       "      <td>3.985351e-08</td>\n",
       "      <td>1.985754e-08</td>\n",
       "      <td>1.092495e-08</td>\n",
       "      <td>1.017582e-06</td>\n",
       "      <td>3.607297e-08</td>\n",
       "    </tr>\n",
       "    <tr>\n",
       "      <th>825</th>\n",
       "      <td>3.941971e-08</td>\n",
       "      <td>2.405503e-09</td>\n",
       "      <td>8.350479e-10</td>\n",
       "      <td>9.778303e-09</td>\n",
       "      <td>6.802794e-08</td>\n",
       "      <td>3.952344e-09</td>\n",
       "    </tr>\n",
       "    <tr>\n",
       "      <th>826</th>\n",
       "      <td>1.733205e-01</td>\n",
       "      <td>2.456635e-03</td>\n",
       "      <td>8.600608e-05</td>\n",
       "      <td>4.635297e-05</td>\n",
       "      <td>2.052367e-03</td>\n",
       "      <td>7.277382e-05</td>\n",
       "    </tr>\n",
       "  </tbody>\n",
       "</table>\n",
       "<p>827 rows × 6 columns</p>\n",
       "</div>"
      ],
      "text/plain": [
       "            1dAVb          RBBB          LBBB            SB            AF  \\\n",
       "0    1.424320e-06  1.071004e-07  2.633708e-07  4.537746e-07  9.485395e-07   \n",
       "1    2.889732e-02  2.006710e-03  3.177863e-01  2.827815e-05  4.834345e-02   \n",
       "2    3.112853e-04  2.940376e-05  4.175250e-06  1.971317e-05  9.349018e-03   \n",
       "3    2.396902e-09  1.734487e-09  6.939341e-10  8.173860e-10  5.682133e-09   \n",
       "4    5.306005e-04  3.533459e-06  3.394171e-07  1.430139e-06  2.242625e-04   \n",
       "..            ...           ...           ...           ...           ...   \n",
       "822  2.662169e-06  2.271630e-07  1.546320e-07  1.969670e-07  1.191893e-05   \n",
       "823  4.383028e-04  1.032207e-05  1.012705e-04  4.085047e-08  8.352697e-04   \n",
       "824  6.078311e-07  3.985351e-08  1.985754e-08  1.092495e-08  1.017582e-06   \n",
       "825  3.941971e-08  2.405503e-09  8.350479e-10  9.778303e-09  6.802794e-08   \n",
       "826  1.733205e-01  2.456635e-03  8.600608e-05  4.635297e-05  2.052367e-03   \n",
       "\n",
       "               ST  \n",
       "0    6.413513e-09  \n",
       "1    3.205240e-04  \n",
       "2    2.493307e-05  \n",
       "3    2.767264e-10  \n",
       "4    4.707761e-06  \n",
       "..            ...  \n",
       "822  3.100990e-08  \n",
       "823  6.998916e-07  \n",
       "824  3.607297e-08  \n",
       "825  3.952344e-09  \n",
       "826  7.277382e-05  \n",
       "\n",
       "[827 rows x 6 columns]"
      ]
     },
     "execution_count": 39,
     "metadata": {},
     "output_type": "execute_result"
    }
   ],
   "source": [
    "df_predictions = pd.DataFrame(data = y_score, columns = [\"1dAVb\",\"RBBB\",\"LBBB\",\"SB\",\"AF\",\"ST\"])\n",
    "df_predictions"
   ]
  },
  {
   "cell_type": "markdown",
   "id": "9a9e1be3",
   "metadata": {},
   "source": [
    "Pour un soucis de lisibilité nous allons arrondir les valeurs."
   ]
  },
  {
   "cell_type": "code",
   "execution_count": 40,
   "id": "a9b21d43",
   "metadata": {},
   "outputs": [],
   "source": [
    "df_predictions_arrondies=np.round(df_predictions,decimals=4)"
   ]
  },
  {
   "cell_type": "code",
   "execution_count": 41,
   "id": "87350bdc",
   "metadata": {},
   "outputs": [
    {
     "data": {
      "text/html": [
       "<div>\n",
       "<style scoped>\n",
       "    .dataframe tbody tr th:only-of-type {\n",
       "        vertical-align: middle;\n",
       "    }\n",
       "\n",
       "    .dataframe tbody tr th {\n",
       "        vertical-align: top;\n",
       "    }\n",
       "\n",
       "    .dataframe thead th {\n",
       "        text-align: right;\n",
       "    }\n",
       "</style>\n",
       "<table border=\"1\" class=\"dataframe\">\n",
       "  <thead>\n",
       "    <tr style=\"text-align: right;\">\n",
       "      <th></th>\n",
       "      <th>1dAVb</th>\n",
       "      <th>RBBB</th>\n",
       "      <th>LBBB</th>\n",
       "      <th>SB</th>\n",
       "      <th>AF</th>\n",
       "      <th>ST</th>\n",
       "    </tr>\n",
       "  </thead>\n",
       "  <tbody>\n",
       "    <tr>\n",
       "      <th>0</th>\n",
       "      <td>0.0000</td>\n",
       "      <td>0.0000</td>\n",
       "      <td>0.0000</td>\n",
       "      <td>0.0</td>\n",
       "      <td>0.0000</td>\n",
       "      <td>0.0000</td>\n",
       "    </tr>\n",
       "    <tr>\n",
       "      <th>1</th>\n",
       "      <td>0.0289</td>\n",
       "      <td>0.0020</td>\n",
       "      <td>0.3178</td>\n",
       "      <td>0.0</td>\n",
       "      <td>0.0483</td>\n",
       "      <td>0.0003</td>\n",
       "    </tr>\n",
       "    <tr>\n",
       "      <th>2</th>\n",
       "      <td>0.0003</td>\n",
       "      <td>0.0000</td>\n",
       "      <td>0.0000</td>\n",
       "      <td>0.0</td>\n",
       "      <td>0.0093</td>\n",
       "      <td>0.0000</td>\n",
       "    </tr>\n",
       "    <tr>\n",
       "      <th>3</th>\n",
       "      <td>0.0000</td>\n",
       "      <td>0.0000</td>\n",
       "      <td>0.0000</td>\n",
       "      <td>0.0</td>\n",
       "      <td>0.0000</td>\n",
       "      <td>0.0000</td>\n",
       "    </tr>\n",
       "    <tr>\n",
       "      <th>4</th>\n",
       "      <td>0.0005</td>\n",
       "      <td>0.0000</td>\n",
       "      <td>0.0000</td>\n",
       "      <td>0.0</td>\n",
       "      <td>0.0002</td>\n",
       "      <td>0.0000</td>\n",
       "    </tr>\n",
       "    <tr>\n",
       "      <th>...</th>\n",
       "      <td>...</td>\n",
       "      <td>...</td>\n",
       "      <td>...</td>\n",
       "      <td>...</td>\n",
       "      <td>...</td>\n",
       "      <td>...</td>\n",
       "    </tr>\n",
       "    <tr>\n",
       "      <th>822</th>\n",
       "      <td>0.0000</td>\n",
       "      <td>0.0000</td>\n",
       "      <td>0.0000</td>\n",
       "      <td>0.0</td>\n",
       "      <td>0.0000</td>\n",
       "      <td>0.0000</td>\n",
       "    </tr>\n",
       "    <tr>\n",
       "      <th>823</th>\n",
       "      <td>0.0004</td>\n",
       "      <td>0.0000</td>\n",
       "      <td>0.0001</td>\n",
       "      <td>0.0</td>\n",
       "      <td>0.0008</td>\n",
       "      <td>0.0000</td>\n",
       "    </tr>\n",
       "    <tr>\n",
       "      <th>824</th>\n",
       "      <td>0.0000</td>\n",
       "      <td>0.0000</td>\n",
       "      <td>0.0000</td>\n",
       "      <td>0.0</td>\n",
       "      <td>0.0000</td>\n",
       "      <td>0.0000</td>\n",
       "    </tr>\n",
       "    <tr>\n",
       "      <th>825</th>\n",
       "      <td>0.0000</td>\n",
       "      <td>0.0000</td>\n",
       "      <td>0.0000</td>\n",
       "      <td>0.0</td>\n",
       "      <td>0.0000</td>\n",
       "      <td>0.0000</td>\n",
       "    </tr>\n",
       "    <tr>\n",
       "      <th>826</th>\n",
       "      <td>0.1733</td>\n",
       "      <td>0.0025</td>\n",
       "      <td>0.0001</td>\n",
       "      <td>0.0</td>\n",
       "      <td>0.0021</td>\n",
       "      <td>0.0001</td>\n",
       "    </tr>\n",
       "  </tbody>\n",
       "</table>\n",
       "<p>827 rows × 6 columns</p>\n",
       "</div>"
      ],
      "text/plain": [
       "      1dAVb    RBBB    LBBB   SB      AF      ST\n",
       "0    0.0000  0.0000  0.0000  0.0  0.0000  0.0000\n",
       "1    0.0289  0.0020  0.3178  0.0  0.0483  0.0003\n",
       "2    0.0003  0.0000  0.0000  0.0  0.0093  0.0000\n",
       "3    0.0000  0.0000  0.0000  0.0  0.0000  0.0000\n",
       "4    0.0005  0.0000  0.0000  0.0  0.0002  0.0000\n",
       "..      ...     ...     ...  ...     ...     ...\n",
       "822  0.0000  0.0000  0.0000  0.0  0.0000  0.0000\n",
       "823  0.0004  0.0000  0.0001  0.0  0.0008  0.0000\n",
       "824  0.0000  0.0000  0.0000  0.0  0.0000  0.0000\n",
       "825  0.0000  0.0000  0.0000  0.0  0.0000  0.0000\n",
       "826  0.1733  0.0025  0.0001  0.0  0.0021  0.0001\n",
       "\n",
       "[827 rows x 6 columns]"
      ]
     },
     "execution_count": 41,
     "metadata": {},
     "output_type": "execute_result"
    }
   ],
   "source": [
    "df_predictions_arrondies"
   ]
  },
  {
   "cell_type": "markdown",
   "id": "e75b36b0",
   "metadata": {},
   "source": [
    "### Comparaisons avec les humains"
   ]
  },
  {
   "cell_type": "markdown",
   "id": "4c2bd80a",
   "metadata": {},
   "source": [
    "Les résultats des humains sont des 1 ou des 0 donc pour les comparer avec les prédictions nous devont arrondir à 0 ou 1 chaque résultats."
   ]
  },
  {
   "cell_type": "code",
   "execution_count": 42,
   "id": "3b711b13",
   "metadata": {},
   "outputs": [],
   "source": [
    "df_predictions_arrondies2=np.round(df_predictions,decimals=0)"
   ]
  },
  {
   "cell_type": "code",
   "execution_count": 54,
   "id": "52a0c03a",
   "metadata": {},
   "outputs": [],
   "source": [
    "def stats(df):\n",
    "    score=0\n",
    "    for idy in range(6):\n",
    "        for idx in range(827):\n",
    "            if df.values[idx,idy]==df_gold_s.values[idx,idy]:\n",
    "                score+=1\n",
    "    return score/(827*6)"
   ]
  },
  {
   "cell_type": "code",
   "execution_count": 62,
   "id": "ed1ff69a",
   "metadata": {},
   "outputs": [
    {
     "name": "stdout",
     "output_type": "stream",
     "text": [
      "Score du cardiologue 1 :  0.9943571140669085\n",
      "Score du cardiologue 2 :  0.9965739621120516\n",
      "Score du résident en cardiologie :  0.992341797662233\n",
      "Score dnn :  0.7847642079806529\n",
      "Score du résident en urgence :  0.9903264812575574\n",
      "Score étudiant :  0.988714228133817\n",
      "Score de notre dnn :  0.7089883111648528\n"
     ]
    }
   ],
   "source": [
    "print(\"Score du cardiologue 1 : \",stats(df_cardio1))\n",
    "print(\"Score du cardiologue 2 : \",stats(df_cardio2))\n",
    "print(\"Score du résident en cardiologie : \",stats(df_cardior))\n",
    "print(\"Score dnn : \",stats(df_dnn))\n",
    "print(\"Score du résident en urgence : \",stats(df_emergency))\n",
    "print(\"Score étudiant : \",stats(df_students))\n",
    "print(\"Score de notre dnn : \",stats(df_predictions_arrondies))"
   ]
  },
  {
   "cell_type": "markdown",
   "id": "8a7fb6c0",
   "metadata": {},
   "source": [
    "### Comparaison avec d'autres classifieurs (linear regression, svm, random forest)"
   ]
  },
  {
   "cell_type": "code",
   "execution_count": 63,
   "id": "f2b83a0f",
   "metadata": {},
   "outputs": [],
   "source": [
    "#a finir"
   ]
  },
  {
   "cell_type": "code",
   "execution_count": null,
   "id": "9ba87333",
   "metadata": {},
   "outputs": [],
   "source": []
  }
 ],
 "metadata": {
  "kernelspec": {
   "display_name": "Python 3 (ipykernel)",
   "language": "python",
   "name": "python3"
  },
  "language_info": {
   "codemirror_mode": {
    "name": "ipython",
    "version": 3
   },
   "file_extension": ".py",
   "mimetype": "text/x-python",
   "name": "python",
   "nbconvert_exporter": "python",
   "pygments_lexer": "ipython3",
   "version": "3.8.8"
  }
 },
 "nbformat": 4,
 "nbformat_minor": 5
}
