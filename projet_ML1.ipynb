{
 "cells": [
  {
   "cell_type": "markdown",
   "id": "8c96828f",
   "metadata": {},
   "source": [
    "# Projet Machine Learning"
   ]
  },
  {
   "cell_type": "markdown",
   "id": "c57b73c5",
   "metadata": {},
   "source": [
    "Antonin Arsac \\\n",
    "Mathilde Perez"
   ]
  },
  {
   "cell_type": "code",
   "execution_count": 1,
   "id": "b5e049df",
   "metadata": {},
   "outputs": [],
   "source": [
    "import pandas as pd\n",
    "import numpy as np\n",
    "import matplotlib.pyplot as plt\n",
    "import h5py\n",
    "\n",
    "from keras.models import load_model\n",
    "from tensorflow.keras.optimizers import Adam "
   ]
  },
  {
   "cell_type": "markdown",
   "id": "fd148657",
   "metadata": {},
   "source": [
    "### Chargements des dataframes\n",
    "\\\n",
    "Ici, df_dnn est le dataframe donné par le réseau de neuronne décrit dans l'article Nature"
   ]
  },
  {
   "cell_type": "code",
   "execution_count": 2,
   "id": "a5a23ae9",
   "metadata": {},
   "outputs": [],
   "source": [
    "df_cardio1=pd.read_csv(\"./data/annotations/cardiologist1.csv\")\n",
    "df_cardio2=pd.read_csv(\"./data/annotations/cardiologist2.csv\")\n",
    "df_cardior=pd.read_csv(\"./data/annotations/cardiology_residents.csv\")\n",
    "df_dnn=pd.read_csv(\"./data/annotations/dnn.csv\")\n",
    "df_emergency=pd.read_csv(\"./data/annotations/emergency_residents.csv\")\n",
    "df_gold_s=pd.read_csv(\"./data/annotations/gold_standard.csv\")\n",
    "df_students=pd.read_csv(\"./data/annotations/medical_students.csv\")\n",
    "df_attributes=pd.read_csv(\"./data/attributes.csv\")"
   ]
  },
  {
   "cell_type": "markdown",
   "id": "2e3d723b",
   "metadata": {},
   "source": [
    "### Predictions"
   ]
  },
  {
   "cell_type": "code",
   "execution_count": 3,
   "id": "894eb547",
   "metadata": {
    "scrolled": true
   },
   "outputs": [
    {
     "name": "stdout",
     "output_type": "stream",
     "text": [
      "26/26 [==============================] - 22s 815ms/step\n",
      "Output predictions saved\n"
     ]
    }
   ],
   "source": [
    "import argparse\n",
    "#warnings.filterwarnings(\"ignore\")\n",
    "from tensorflow.keras.models import load_model\n",
    "from tensorflow.keras.optimizers import Adam\n",
    "from datasets import ECGSequence\n",
    "\n",
    "\n",
    "if __name__ == '__main__':\n",
    "    parser = argparse.ArgumentParser(description='Get performance on test set from hdf5')\n",
    "    parser.add_argument('path_to_hdf5', type=str,\n",
    "                        help='path to hdf5 file containing tracings')\n",
    "    parser.add_argument('path_to_model',  # or model_date_order.hdf5\n",
    "                        help='file containing training model.')\n",
    "    parser.add_argument('--dataset_name', type=str, default='tracings',\n",
    "                        help='name of the hdf5 dataset containing tracings')\n",
    "    parser.add_argument('--output_file', default=\"./dnn_output.npy\",  # or predictions_date_order.csv\n",
    "                        help='output csv file.')\n",
    "    parser.add_argument('-bs', type=int, default=32,\n",
    "                        help='Batch size.')\n",
    "\n",
    "    args, unk = parser.parse_known_args([\"./data/ecg_tracings.hdf5\",\"./data/model/model.hdf5\"])\n",
    "    if unk:\n",
    "        warnings.warn(\"Unknown arguments:\" + str(unk) + \".\")\n",
    "\n",
    "    # Import data\n",
    "    seq = ECGSequence(args.path_to_hdf5, args.dataset_name, batch_size=args.bs)\n",
    "    # Import model\n",
    "    model = load_model(args.path_to_model, compile=False)\n",
    "    model.compile(loss='binary_crossentropy', optimizer=Adam())\n",
    "    y_score = model.predict(seq,  verbose=1)\n",
    "\n",
    "    # Generate dataframe\n",
    "    np.save(args.output_file, y_score)\n",
    "\n",
    "    print(\"Output predictions saved\")\n"
   ]
  },
  {
   "cell_type": "code",
   "execution_count": 4,
   "id": "ea6ebad7",
   "metadata": {},
   "outputs": [
    {
     "data": {
      "text/html": [
       "<div>\n",
       "<style scoped>\n",
       "    .dataframe tbody tr th:only-of-type {\n",
       "        vertical-align: middle;\n",
       "    }\n",
       "\n",
       "    .dataframe tbody tr th {\n",
       "        vertical-align: top;\n",
       "    }\n",
       "\n",
       "    .dataframe thead th {\n",
       "        text-align: right;\n",
       "    }\n",
       "</style>\n",
       "<table border=\"1\" class=\"dataframe\">\n",
       "  <thead>\n",
       "    <tr style=\"text-align: right;\">\n",
       "      <th></th>\n",
       "      <th>1dAVb</th>\n",
       "      <th>RBBB</th>\n",
       "      <th>LBBB</th>\n",
       "      <th>SB</th>\n",
       "      <th>AF</th>\n",
       "      <th>ST</th>\n",
       "    </tr>\n",
       "  </thead>\n",
       "  <tbody>\n",
       "    <tr>\n",
       "      <th>0</th>\n",
       "      <td>1.424320e-06</td>\n",
       "      <td>1.071004e-07</td>\n",
       "      <td>2.633703e-07</td>\n",
       "      <td>4.537750e-07</td>\n",
       "      <td>9.485395e-07</td>\n",
       "      <td>6.413525e-09</td>\n",
       "    </tr>\n",
       "    <tr>\n",
       "      <th>1</th>\n",
       "      <td>2.889732e-02</td>\n",
       "      <td>2.006710e-03</td>\n",
       "      <td>3.177863e-01</td>\n",
       "      <td>2.827818e-05</td>\n",
       "      <td>4.834345e-02</td>\n",
       "      <td>3.205240e-04</td>\n",
       "    </tr>\n",
       "    <tr>\n",
       "      <th>2</th>\n",
       "      <td>3.112853e-04</td>\n",
       "      <td>2.940376e-05</td>\n",
       "      <td>4.175250e-06</td>\n",
       "      <td>1.971315e-05</td>\n",
       "      <td>9.349018e-03</td>\n",
       "      <td>2.493309e-05</td>\n",
       "    </tr>\n",
       "    <tr>\n",
       "      <th>3</th>\n",
       "      <td>2.396912e-09</td>\n",
       "      <td>1.734494e-09</td>\n",
       "      <td>6.939355e-10</td>\n",
       "      <td>8.173876e-10</td>\n",
       "      <td>5.682145e-09</td>\n",
       "      <td>2.767275e-10</td>\n",
       "    </tr>\n",
       "    <tr>\n",
       "      <th>4</th>\n",
       "      <td>5.306005e-04</td>\n",
       "      <td>3.533459e-06</td>\n",
       "      <td>3.394174e-07</td>\n",
       "      <td>1.430142e-06</td>\n",
       "      <td>2.242625e-04</td>\n",
       "      <td>4.707765e-06</td>\n",
       "    </tr>\n",
       "    <tr>\n",
       "      <th>...</th>\n",
       "      <td>...</td>\n",
       "      <td>...</td>\n",
       "      <td>...</td>\n",
       "      <td>...</td>\n",
       "      <td>...</td>\n",
       "      <td>...</td>\n",
       "    </tr>\n",
       "    <tr>\n",
       "      <th>822</th>\n",
       "      <td>2.662169e-06</td>\n",
       "      <td>2.271635e-07</td>\n",
       "      <td>1.546323e-07</td>\n",
       "      <td>1.969674e-07</td>\n",
       "      <td>1.191892e-05</td>\n",
       "      <td>3.100990e-08</td>\n",
       "    </tr>\n",
       "    <tr>\n",
       "      <th>823</th>\n",
       "      <td>4.383028e-04</td>\n",
       "      <td>1.032207e-05</td>\n",
       "      <td>1.012705e-04</td>\n",
       "      <td>4.085054e-08</td>\n",
       "      <td>8.352697e-04</td>\n",
       "      <td>6.998936e-07</td>\n",
       "    </tr>\n",
       "    <tr>\n",
       "      <th>824</th>\n",
       "      <td>6.078317e-07</td>\n",
       "      <td>3.985351e-08</td>\n",
       "      <td>1.985758e-08</td>\n",
       "      <td>1.092500e-08</td>\n",
       "      <td>1.017582e-06</td>\n",
       "      <td>3.607297e-08</td>\n",
       "    </tr>\n",
       "    <tr>\n",
       "      <th>825</th>\n",
       "      <td>3.941979e-08</td>\n",
       "      <td>2.405508e-09</td>\n",
       "      <td>8.350511e-10</td>\n",
       "      <td>9.778340e-09</td>\n",
       "      <td>6.802806e-08</td>\n",
       "      <td>3.952344e-09</td>\n",
       "    </tr>\n",
       "    <tr>\n",
       "      <th>826</th>\n",
       "      <td>1.733206e-01</td>\n",
       "      <td>2.456665e-03</td>\n",
       "      <td>8.600608e-05</td>\n",
       "      <td>4.635297e-05</td>\n",
       "      <td>2.052367e-03</td>\n",
       "      <td>7.277382e-05</td>\n",
       "    </tr>\n",
       "  </tbody>\n",
       "</table>\n",
       "<p>827 rows × 6 columns</p>\n",
       "</div>"
      ],
      "text/plain": [
       "            1dAVb          RBBB          LBBB            SB            AF  \\\n",
       "0    1.424320e-06  1.071004e-07  2.633703e-07  4.537750e-07  9.485395e-07   \n",
       "1    2.889732e-02  2.006710e-03  3.177863e-01  2.827818e-05  4.834345e-02   \n",
       "2    3.112853e-04  2.940376e-05  4.175250e-06  1.971315e-05  9.349018e-03   \n",
       "3    2.396912e-09  1.734494e-09  6.939355e-10  8.173876e-10  5.682145e-09   \n",
       "4    5.306005e-04  3.533459e-06  3.394174e-07  1.430142e-06  2.242625e-04   \n",
       "..            ...           ...           ...           ...           ...   \n",
       "822  2.662169e-06  2.271635e-07  1.546323e-07  1.969674e-07  1.191892e-05   \n",
       "823  4.383028e-04  1.032207e-05  1.012705e-04  4.085054e-08  8.352697e-04   \n",
       "824  6.078317e-07  3.985351e-08  1.985758e-08  1.092500e-08  1.017582e-06   \n",
       "825  3.941979e-08  2.405508e-09  8.350511e-10  9.778340e-09  6.802806e-08   \n",
       "826  1.733206e-01  2.456665e-03  8.600608e-05  4.635297e-05  2.052367e-03   \n",
       "\n",
       "               ST  \n",
       "0    6.413525e-09  \n",
       "1    3.205240e-04  \n",
       "2    2.493309e-05  \n",
       "3    2.767275e-10  \n",
       "4    4.707765e-06  \n",
       "..            ...  \n",
       "822  3.100990e-08  \n",
       "823  6.998936e-07  \n",
       "824  3.607297e-08  \n",
       "825  3.952344e-09  \n",
       "826  7.277382e-05  \n",
       "\n",
       "[827 rows x 6 columns]"
      ]
     },
     "execution_count": 4,
     "metadata": {},
     "output_type": "execute_result"
    }
   ],
   "source": [
    "df_predictions = pd.DataFrame(data = y_score, columns = [\"1dAVb\",\"RBBB\",\"LBBB\",\"SB\",\"AF\",\"ST\"])\n",
    "df_predictions"
   ]
  },
  {
   "cell_type": "markdown",
   "id": "9a9e1be3",
   "metadata": {},
   "source": [
    "Pour un soucis de lisibilité nous allons arrondir les valeurs."
   ]
  },
  {
   "cell_type": "code",
   "execution_count": 5,
   "id": "a9b21d43",
   "metadata": {},
   "outputs": [],
   "source": [
    "df_predictions_arrondies=np.round(df_predictions,decimals=4)"
   ]
  },
  {
   "cell_type": "code",
   "execution_count": 6,
   "id": "87350bdc",
   "metadata": {},
   "outputs": [
    {
     "data": {
      "text/html": [
       "<div>\n",
       "<style scoped>\n",
       "    .dataframe tbody tr th:only-of-type {\n",
       "        vertical-align: middle;\n",
       "    }\n",
       "\n",
       "    .dataframe tbody tr th {\n",
       "        vertical-align: top;\n",
       "    }\n",
       "\n",
       "    .dataframe thead th {\n",
       "        text-align: right;\n",
       "    }\n",
       "</style>\n",
       "<table border=\"1\" class=\"dataframe\">\n",
       "  <thead>\n",
       "    <tr style=\"text-align: right;\">\n",
       "      <th></th>\n",
       "      <th>1dAVb</th>\n",
       "      <th>RBBB</th>\n",
       "      <th>LBBB</th>\n",
       "      <th>SB</th>\n",
       "      <th>AF</th>\n",
       "      <th>ST</th>\n",
       "    </tr>\n",
       "  </thead>\n",
       "  <tbody>\n",
       "    <tr>\n",
       "      <th>0</th>\n",
       "      <td>0.0000</td>\n",
       "      <td>0.0000</td>\n",
       "      <td>0.0000</td>\n",
       "      <td>0.0</td>\n",
       "      <td>0.0000</td>\n",
       "      <td>0.0000</td>\n",
       "    </tr>\n",
       "    <tr>\n",
       "      <th>1</th>\n",
       "      <td>0.0289</td>\n",
       "      <td>0.0020</td>\n",
       "      <td>0.3178</td>\n",
       "      <td>0.0</td>\n",
       "      <td>0.0483</td>\n",
       "      <td>0.0003</td>\n",
       "    </tr>\n",
       "    <tr>\n",
       "      <th>2</th>\n",
       "      <td>0.0003</td>\n",
       "      <td>0.0000</td>\n",
       "      <td>0.0000</td>\n",
       "      <td>0.0</td>\n",
       "      <td>0.0093</td>\n",
       "      <td>0.0000</td>\n",
       "    </tr>\n",
       "    <tr>\n",
       "      <th>3</th>\n",
       "      <td>0.0000</td>\n",
       "      <td>0.0000</td>\n",
       "      <td>0.0000</td>\n",
       "      <td>0.0</td>\n",
       "      <td>0.0000</td>\n",
       "      <td>0.0000</td>\n",
       "    </tr>\n",
       "    <tr>\n",
       "      <th>4</th>\n",
       "      <td>0.0005</td>\n",
       "      <td>0.0000</td>\n",
       "      <td>0.0000</td>\n",
       "      <td>0.0</td>\n",
       "      <td>0.0002</td>\n",
       "      <td>0.0000</td>\n",
       "    </tr>\n",
       "    <tr>\n",
       "      <th>...</th>\n",
       "      <td>...</td>\n",
       "      <td>...</td>\n",
       "      <td>...</td>\n",
       "      <td>...</td>\n",
       "      <td>...</td>\n",
       "      <td>...</td>\n",
       "    </tr>\n",
       "    <tr>\n",
       "      <th>822</th>\n",
       "      <td>0.0000</td>\n",
       "      <td>0.0000</td>\n",
       "      <td>0.0000</td>\n",
       "      <td>0.0</td>\n",
       "      <td>0.0000</td>\n",
       "      <td>0.0000</td>\n",
       "    </tr>\n",
       "    <tr>\n",
       "      <th>823</th>\n",
       "      <td>0.0004</td>\n",
       "      <td>0.0000</td>\n",
       "      <td>0.0001</td>\n",
       "      <td>0.0</td>\n",
       "      <td>0.0008</td>\n",
       "      <td>0.0000</td>\n",
       "    </tr>\n",
       "    <tr>\n",
       "      <th>824</th>\n",
       "      <td>0.0000</td>\n",
       "      <td>0.0000</td>\n",
       "      <td>0.0000</td>\n",
       "      <td>0.0</td>\n",
       "      <td>0.0000</td>\n",
       "      <td>0.0000</td>\n",
       "    </tr>\n",
       "    <tr>\n",
       "      <th>825</th>\n",
       "      <td>0.0000</td>\n",
       "      <td>0.0000</td>\n",
       "      <td>0.0000</td>\n",
       "      <td>0.0</td>\n",
       "      <td>0.0000</td>\n",
       "      <td>0.0000</td>\n",
       "    </tr>\n",
       "    <tr>\n",
       "      <th>826</th>\n",
       "      <td>0.1733</td>\n",
       "      <td>0.0025</td>\n",
       "      <td>0.0001</td>\n",
       "      <td>0.0</td>\n",
       "      <td>0.0021</td>\n",
       "      <td>0.0001</td>\n",
       "    </tr>\n",
       "  </tbody>\n",
       "</table>\n",
       "<p>827 rows × 6 columns</p>\n",
       "</div>"
      ],
      "text/plain": [
       "      1dAVb    RBBB    LBBB   SB      AF      ST\n",
       "0    0.0000  0.0000  0.0000  0.0  0.0000  0.0000\n",
       "1    0.0289  0.0020  0.3178  0.0  0.0483  0.0003\n",
       "2    0.0003  0.0000  0.0000  0.0  0.0093  0.0000\n",
       "3    0.0000  0.0000  0.0000  0.0  0.0000  0.0000\n",
       "4    0.0005  0.0000  0.0000  0.0  0.0002  0.0000\n",
       "..      ...     ...     ...  ...     ...     ...\n",
       "822  0.0000  0.0000  0.0000  0.0  0.0000  0.0000\n",
       "823  0.0004  0.0000  0.0001  0.0  0.0008  0.0000\n",
       "824  0.0000  0.0000  0.0000  0.0  0.0000  0.0000\n",
       "825  0.0000  0.0000  0.0000  0.0  0.0000  0.0000\n",
       "826  0.1733  0.0025  0.0001  0.0  0.0021  0.0001\n",
       "\n",
       "[827 rows x 6 columns]"
      ]
     },
     "execution_count": 6,
     "metadata": {},
     "output_type": "execute_result"
    }
   ],
   "source": [
    "df_predictions_arrondies"
   ]
  },
  {
   "cell_type": "markdown",
   "id": "e75b36b0",
   "metadata": {},
   "source": [
    "### Comparaisons avec les humains"
   ]
  },
  {
   "cell_type": "markdown",
   "id": "4c2bd80a",
   "metadata": {},
   "source": [
    "Les résultats des humains sont des 1 ou des 0 donc pour les comparer avec les prédictions nous devont arrondir à 0 ou 1 chaque résultats."
   ]
  },
  {
   "cell_type": "code",
   "execution_count": 7,
   "id": "3b711b13",
   "metadata": {},
   "outputs": [],
   "source": [
    "df_predictions_arrondies2=np.round(df_predictions,decimals=0)"
   ]
  },
  {
   "cell_type": "code",
   "execution_count": 8,
   "id": "52a0c03a",
   "metadata": {},
   "outputs": [],
   "source": [
    "def stats(df):\n",
    "    score=0\n",
    "    for idy in range(6):\n",
    "        for idx in range(827):\n",
    "            if df.values[idx,idy]==df_gold_s.values[idx,idy]:\n",
    "                score+=1\n",
    "    return score/(827*6)"
   ]
  },
  {
   "cell_type": "code",
   "execution_count": 9,
   "id": "ed1ff69a",
   "metadata": {},
   "outputs": [
    {
     "name": "stdout",
     "output_type": "stream",
     "text": [
      "Score du cardiologue 1 :  0.9943571140669085\n",
      "Score du cardiologue 2 :  0.9965739621120516\n",
      "Score du résident en cardiologie :  0.992341797662233\n",
      "Score dnn :  0.7847642079806529\n",
      "Score du résident en urgence :  0.9903264812575574\n",
      "Score étudiant :  0.988714228133817\n",
      "Score de notre dnn :  0.7089883111648528\n"
     ]
    }
   ],
   "source": [
    "print(\"Score du cardiologue 1 : \",stats(df_cardio1))\n",
    "print(\"Score du cardiologue 2 : \",stats(df_cardio2))\n",
    "print(\"Score du résident en cardiologie : \",stats(df_cardior))\n",
    "print(\"Score dnn : \",stats(df_dnn))\n",
    "print(\"Score du résident en urgence : \",stats(df_emergency))\n",
    "print(\"Score étudiant : \",stats(df_students))\n",
    "print(\"Score de notre dnn : \",stats(df_predictions_arrondies))"
   ]
  },
  {
   "cell_type": "markdown",
   "id": "8a7fb6c0",
   "metadata": {},
   "source": [
    "### Etude du NN"
   ]
  },
  {
   "cell_type": "markdown",
   "id": "25254403",
   "metadata": {},
   "source": [
    "##  Comparaison avec d'autres classifieurs\n",
    "\n",
    "Les données que l'on doit traiter sont ici des données binaires. "
   ]
  },
  {
   "cell_type": "code",
   "execution_count": 10,
   "id": "b891c57a",
   "metadata": {},
   "outputs": [],
   "source": [
    "import matplotlib.pyplot as plt\n",
    "from sklearn.model_selection import train_test_split\n",
    "from sklearn.metrics import confusion_matrix, accuracy_score,classification_report\n",
    "from sklearn.svm import SVC"
   ]
  },
  {
   "cell_type": "markdown",
   "id": "c8bdf519",
   "metadata": {},
   "source": [
    "###  On prépare ici les donnée d'entraînement et de test"
   ]
  },
  {
   "cell_type": "code",
   "execution_count": 49,
   "id": "6f62b512",
   "metadata": {},
   "outputs": [],
   "source": [
    "with h5py.File('./data/ecg_tracings.hdf5', \"r\") as f:\n",
    "    x = np.array(f['tracings'])\n",
    "    "
   ]
  },
  {
   "cell_type": "code",
   "execution_count": 50,
   "id": "f23ebc77",
   "metadata": {},
   "outputs": [],
   "source": [
    "y_gold_s = df_gold_s['1dAVb'] + df_gold_s.RBBB + df_gold_s.LBBB + df_gold_s.SB + df_gold_s.AF + df_gold_s.ST"
   ]
  },
  {
   "cell_type": "code",
   "execution_count": 51,
   "id": "6e56f77c",
   "metadata": {},
   "outputs": [],
   "source": [
    "Y = y_gold_s\n"
   ]
  },
  {
   "cell_type": "markdown",
   "id": "1c13f079",
   "metadata": {},
   "source": [
    "On remarque qu'il y a des valeurs supérieurs à 1 dans le dataframe."
   ]
  },
  {
   "cell_type": "code",
   "execution_count": 52,
   "id": "b0d3025c",
   "metadata": {},
   "outputs": [],
   "source": [
    "Y[Y.values>1]=1"
   ]
  },
  {
   "cell_type": "code",
   "execution_count": 53,
   "id": "11ee9b8f",
   "metadata": {},
   "outputs": [],
   "source": [
    "X_train, X_test, Y_train, Y_test = train_test_split(x, Y, test_size = 0.2, random_state = 0)"
   ]
  },
  {
   "cell_type": "code",
   "execution_count": 54,
   "id": "0e77add1",
   "metadata": {},
   "outputs": [],
   "source": [
    "nb_index, nbx,nby = np.shape(X_train)\n",
    "x_train = np.reshape(X_train,((nb_index,nbx*nby)))\n",
    "\n",
    "nb_index_test, nbx_test,nby_test = np.shape(X_test)\n",
    "x_test = np.reshape(X_test,((nb_index_test,nbx_test*nby_test)))"
   ]
  },
  {
   "cell_type": "markdown",
   "id": "14ef2c9d",
   "metadata": {},
   "source": [
    "### Essai avec un algorithme de type SVM"
   ]
  },
  {
   "cell_type": "code",
   "execution_count": 55,
   "id": "d281f295",
   "metadata": {},
   "outputs": [
    {
     "data": {
      "text/plain": [
       "SVC(kernel='linear', random_state=2)"
      ]
     },
     "execution_count": 55,
     "metadata": {},
     "output_type": "execute_result"
    }
   ],
   "source": [
    "csvm = SVC(kernel = 'linear', random_state = 2)\n",
    "csvm.fit(x_train,Y_train)"
   ]
  },
  {
   "cell_type": "code",
   "execution_count": 56,
   "id": "a26bf2c5",
   "metadata": {},
   "outputs": [],
   "source": [
    "y_pred_svm = csvm.predict(x_test)"
   ]
  },
  {
   "cell_type": "code",
   "execution_count": 59,
   "id": "f0a5ae46",
   "metadata": {},
   "outputs": [
    {
     "name": "stdout",
     "output_type": "stream",
     "text": [
      "[[119  14]\n",
      " [ 29   4]]\n"
     ]
    },
    {
     "data": {
      "text/plain": [
       "0.7409638554216867"
      ]
     },
     "execution_count": 59,
     "metadata": {},
     "output_type": "execute_result"
    }
   ],
   "source": [
    "cm = confusion_matrix(Y_test,y_pred_svm)\n",
    "print(cm)\n",
    "accuracy_score(Y_test,y_pred_svm)"
   ]
  },
  {
   "cell_type": "code",
   "execution_count": 60,
   "id": "9c415ffb",
   "metadata": {},
   "outputs": [
    {
     "name": "stdout",
     "output_type": "stream",
     "text": [
      "              precision    recall  f1-score   support\n",
      "\n",
      "           0       0.80      0.89      0.85       133\n",
      "           1       0.22      0.12      0.16        33\n",
      "\n",
      "    accuracy                           0.74       166\n",
      "   macro avg       0.51      0.51      0.50       166\n",
      "weighted avg       0.69      0.74      0.71       166\n",
      "\n"
     ]
    }
   ],
   "source": [
    "print(classification_report(Y_test,y_pred_svm))"
   ]
  },
  {
   "cell_type": "code",
   "execution_count": null,
   "id": "c29f842c",
   "metadata": {},
   "outputs": [],
   "source": []
  }
 ],
 "metadata": {
  "kernelspec": {
   "display_name": "Python 3 (ipykernel)",
   "language": "python",
   "name": "python3"
  },
  "language_info": {
   "codemirror_mode": {
    "name": "ipython",
    "version": 3
   },
   "file_extension": ".py",
   "mimetype": "text/x-python",
   "name": "python",
   "nbconvert_exporter": "python",
   "pygments_lexer": "ipython3",
   "version": "3.8.12"
  }
 },
 "nbformat": 4,
 "nbformat_minor": 5
}
