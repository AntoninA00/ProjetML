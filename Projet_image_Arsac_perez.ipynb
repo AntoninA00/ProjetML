{
 "cells": [
  {
   "cell_type": "markdown",
   "id": "e97a6545",
   "metadata": {},
   "source": [
    "# Projet Analyse de l'image\n",
    "\n",
    "## Binôme : Antonin Arsac et Mathilde Perez\n",
    "\n",
    "Dans ce projet nous allons utiliser le de neuronne produit par les rédacteurs de l'article : \"Automatic diagnosis of the 12-lead ECG using a deep neural network\". Ce réseau de neuronne permet de diagnostiquer des anomalies à partir d'ECG à 12 dérivations, qui sont données dans l'ordre suivant : {DI, DII, DIII, AVR, AVL, AVF, V1, V2, V3, V4, V5, V6}. Voici les anomalies qu'il prédit : \n",
    "- 1st degree AV block (1dAVb);\n",
    "- right bundle branch block (RBBB);\n",
    "- left bundle branch block (LBBB);\n",
    "- sinus bradycardia (SB);\n",
    "- atrial fibrillation (AF); \n",
    "- sinus tachycardia (ST).\n",
    "\n",
    "L'objectif de ce projet va être d'adapter ce réseau de neuronne pour pouvoir diagnostiquer de nouvelles anomalies, toujours à partir d'ECG à 12 dérivations. En fait, ce ne sont pas de nouvelles anomalies, mais des classes d'anomalies, qui peuvent contenir en particulier des pathologies déjà détectées dans le réseau de l'article Nature. Ces classes sont au nombre de 4:\n",
    "- MI : Myocardial Infarction \n",
    "- HYP : hypertrophy\n",
    "- CD : Conduction Disturbance (qui contient par exemple l'anomalie RBBB)\n",
    "- STTC : ST/T Change\n",
    " \n",
    "Pour adapter le réseau de neuronne, nous allons recourir au transfert learning. D'abord, nous récupérons les données et le réseau, dont nous gelons toutes les couches. Après avoir traité les nouvelles données pour que le réseau puisse les prendre en entrée, nous changeons la couche de sortie du réseau pour qu'il ne prédise qu'un vecteur de taille 4. Puis nous l'entraînons avec seulement cette nouvelle couche.\\\n",
    "Selon les prédictions obtenues, nous procéderons à du fine tuning, qui consiste à dégeler le réseau et l'entraîner sur les nouvelles données."
   ]
  },
  {
   "cell_type": "markdown",
   "id": "13b95ea2",
   "metadata": {},
   "source": [
    "## 1. Convert raw datasets from hospital centers into usable variables to train our model\n",
    "### a. Import required libraries\n",
    "    "
   ]
  },
  {
   "cell_type": "code",
   "execution_count": 60,
   "id": "f9cb366b",
   "metadata": {},
   "outputs": [
    {
     "name": "stdout",
     "output_type": "stream",
     "text": [
      "pandas version is : 1.3.4\n",
      "numpy version is : 1.21.2\n",
      "wfdb version is : 3.4.1\n"
     ]
    }
   ],
   "source": [
    "import pandas as pd\n",
    "import numpy as np\n",
    "import wfdb\n",
    "import ast #package typed-ast\n",
    "import tensorflow.keras\n",
    "from tensorflow.keras.layers import Dense\n",
    "from tensorflow.keras.layers import Flatten\n",
    "from sklearn.metrics import confusion_matrix,roc_curve, precision_recall_curve, roc_auc_score, precision_score, recall_score\n",
    "from sklearn.metrics import accuracy_score,f1_score\n",
    "\n",
    "import pickle\n",
    "#Print versions\n",
    "print('pandas version is :', pd.__version__)\n",
    "print('numpy version is :', np.__version__)\n",
    "print('wfdb version is :', wfdb.__version__)"
   ]
  },
  {
   "cell_type": "code",
   "execution_count": 2,
   "id": "6a018520",
   "metadata": {},
   "outputs": [
    {
     "name": "stdout",
     "output_type": "stream",
     "text": [
      "3.9.7\n"
     ]
    }
   ],
   "source": [
    "from platform import python_version\n",
    "\n",
    "print(python_version())"
   ]
  },
  {
   "cell_type": "markdown",
   "id": "59c1d847",
   "metadata": {},
   "source": [
    "### Chargement des données\n",
    "\n",
    "On a sauvegardé les données déjà transformées sous forme de pickle, pour un accès rapide sans avoir à refaire le processus de chargement et traitement des données à chaque fois. On les charge ci-dessous :"
   ]
  },
  {
   "cell_type": "code",
   "execution_count": 15,
   "id": "8252fd51",
   "metadata": {},
   "outputs": [],
   "source": [
    "path_pkl =  './data/'   ## accès au fichier dans lequel on a save les pkl\n",
    "\n",
    "with open(path_pkl +'Xtrain_.pkl','rb') as f: \n",
    "    X_train_ = pickle.load(f)\n",
    "    \n",
    "with open(path_pkl +'Xtest_.pkl','rb') as f: \n",
    "    X_test_ = pickle.load(f)\n",
    "    \n",
    "with open(path_pkl +'Ytrain.pkl','rb') as f: \n",
    "    y_train = pickle.load(f)\n",
    "\n",
    "with open(path_pkl +'Ytest.pkl','rb') as f: \n",
    "    y_test = pickle.load(f)"
   ]
  },
  {
   "cell_type": "markdown",
   "id": "df0cd7d8",
   "metadata": {},
   "source": [
    "### b. Get the data to prepare the training phase\n",
    "\n"
   ]
  },
  {
   "cell_type": "code",
   "execution_count": 3,
   "id": "638cfc49",
   "metadata": {},
   "outputs": [
    {
     "name": "stderr",
     "output_type": "stream",
     "text": [
      "100%|████████████████████████████████████████████████████████████████████████████| 21837/21837 [04:10<00:00, 87.23it/s]\n"
     ]
    }
   ],
   "source": [
    "# from tqdm import tqdm\n",
    "# def load_raw_data(df, sampling_rate, path):\n",
    "#     data = []\n",
    "#     if sampling_rate == 100:\n",
    "#         data = [wfdb.rdsamp(path+f) for f in df.filename_lr]\n",
    "#     else:\n",
    "#         i=0\n",
    "#         for f in tqdm(df.filename_hr):\n",
    "#             data.append(wfdb.rdsamp(path+f))\n",
    "#             i+=1\n",
    "\n",
    "#     data = np.array([signal for signal, meta in data])\n",
    "#     return data\n",
    "\n",
    "# path = 'ptb-xl-a-large-publicly-available-electrocardiography-dataset-1.0.1/'  #SET YOUR DIRECTORY HERE!!!\n",
    "# #path = '/Users/lrisser/Taff/2021_NNetECG/ptb-xl-a-large-publicly-available-electrocardiography-dataset-1.0.1/'\n",
    "# sampling_rate=500\n",
    "\n",
    "# # load and convert annotation data\n",
    "# Y = pd.read_csv(path + 'ptbxl_database.csv', index_col='ecg_id')\n",
    "\n",
    "# Y.scp_codes = Y.scp_codes.apply(lambda x: ast.literal_eval(x))\n",
    "\n",
    "\n",
    "# # Load raw signal data\n",
    "# X = load_raw_data(Y, sampling_rate, path)\n",
    "# #X = load_raw_data(Y[0:1000], sampling_rate, path)\n",
    "\n",
    "# # Load scp_statements.csv for diagnostic aggregation\n",
    "# agg_df = pd.read_csv(path+'scp_statements.csv', index_col=0)\n",
    "# agg_df = agg_df[agg_df.diagnostic == 1]\n",
    "\n",
    "# def aggregate_diagnostic(y_dic):\n",
    "#     tmp = []\n",
    "#     for key in y_dic.keys():\n",
    "#         if key in agg_df.index:\n",
    "#             tmp.append(agg_df.loc[key].diagnostic_class)\n",
    "#     return list(set(tmp))\n",
    "\n",
    "# # Apply diagnostic superclass\n",
    "# Y['diagnostic_superclass'] = Y.scp_codes.apply(aggregate_diagnostic)\n",
    "# #Y = Y[0:1000]\n",
    "\n",
    "# # Split data into train and test\n",
    "# test_fold = 10\n",
    "# # Train\n",
    "# X_train = X[np.where(Y.strat_fold != test_fold)]\n",
    "# y_train = Y[(Y.strat_fold != test_fold)].diagnostic_superclass\n",
    "# # Test\n",
    "# X_test = X[np.where(Y.strat_fold == test_fold)]\n",
    "# y_test = Y[Y.strat_fold == test_fold].diagnostic_superclass"
   ]
  },
  {
   "cell_type": "code",
   "execution_count": 4,
   "id": "dc145186",
   "metadata": {},
   "outputs": [],
   "source": [
    "# def delete_unk_ecg(x,y):\n",
    "#     y = list(y)\n",
    "#     x_processed,y_processed = [],[]\n",
    "#     for index,dis in enumerate(y):\n",
    "#         if dis != []:\n",
    "#             x_processed.append(x[index])\n",
    "#             y_processed.append(y[index])\n",
    "#     return x_processed,y_processed\n",
    "\n",
    "\n",
    "# X_train,y_train = delete_unk_ecg(X_train,y_train)\n",
    "# X_test,y_test = delete_unk_ecg(X_test,y_test)\n",
    "            \n",
    "# y_train = np.array(y_train,dtype=object)\n",
    "# y_test = np.array(y_test,dtype=object)\n",
    "# X_train = np.array(X_train)\n",
    "# X_test = np.array(X_test)"
   ]
  },
  {
   "cell_type": "code",
   "execution_count": 5,
   "id": "965bd420",
   "metadata": {},
   "outputs": [
    {
     "name": "stdout",
     "output_type": "stream",
     "text": [
      "(19267,)\n",
      "(19267, 5000, 12)\n",
      "(2163, 5000, 12)\n",
      "(2163,)\n"
     ]
    }
   ],
   "source": [
    "print(y_train.shape)\n",
    "print(X_train.shape)\n",
    "print(X_test.shape)\n",
    "print(y_test.shape)"
   ]
  },
  {
   "cell_type": "markdown",
   "id": "48253449",
   "metadata": {},
   "source": [
    "###    c. Convert the y_train into a usable format  \n",
    "    "
   ]
  },
  {
   "cell_type": "code",
   "execution_count": 6,
   "id": "bb89d8c5",
   "metadata": {},
   "outputs": [
    {
     "name": "stdout",
     "output_type": "stream",
     "text": [
      "(19267, 4)\n",
      "(2163, 4)\n"
     ]
    }
   ],
   "source": [
    "# #Define the diseases\n",
    "# diseases = [\"NORM\",\"MI\",\"HYP\",\"CD\",\"STTC\"]\n",
    "\n",
    "# #Create a RIBEIRO format training data\n",
    "# def Ribeiro_convert(y_train):\n",
    "    \n",
    "#     y_train = list(y_train)\n",
    "\n",
    "#     y_train_ = [[0,0,0,0] for i in list(y_train)]\n",
    "#     for index, info in enumerate(y_train):\n",
    "\n",
    "#         for disease in info:\n",
    "\n",
    "#             if disease != 'NORM':\n",
    "#                 y_train_[index][diseases.index(disease)-1] = 1\n",
    "\n",
    "#     y_train_ = np.array(y_train_)\n",
    "#     return y_train_\n",
    "\n",
    "# y_train = Ribeiro_convert(y_train)\n",
    "# y_test = Ribeiro_convert(y_test)\n",
    "\n",
    "# print(y_train.shape)\n",
    "# print(y_test.shape)\n",
    "\n",
    "# ##Reformat the ECG aquisition, 4048 samples needed."
   ]
  },
  {
   "cell_type": "markdown",
   "id": "e5759d1e",
   "metadata": {},
   "source": [
    "### d. Rescale the data\n",
    "    Ribeiro is adaptated to 400Hz/10sec : 4096 samples, on this dataset the ECG are converted into 5000 samples array, we have to interpolate and convert array with shape (5000,) into (4096,)\n",
    "    "
   ]
  },
  {
   "cell_type": "code",
   "execution_count": 7,
   "id": "1c4fde65",
   "metadata": {},
   "outputs": [
    {
     "name": "stdout",
     "output_type": "stream",
     "text": [
      "(19267, 5000, 12)\n",
      "(19267, 4096, 12)\n",
      "(2163, 5000, 12)\n",
      "(2163, 4096, 12)\n"
     ]
    }
   ],
   "source": [
    "# import cv2 # opencv\n",
    "# from tqdm import tqdm\n",
    "\n",
    "# def convert_X(X,scale):\n",
    "#     X_conv = np.empty((X.shape[0], 4096, 12))\n",
    "#     for index,array in enumerate(X):\n",
    "#         array = cv2.resize(array,(12,scale))\n",
    "#         X_conv[index,:,:]=array\n",
    "#     return X_conv\n",
    "    \n",
    "# X_train_=convert_X(X_train,4096)    \n",
    "# X_test_=convert_X(X_test,4096)    \n",
    "\n",
    "# print(X_train.shape)\n",
    "# print(X_train_.shape)\n",
    "# print(X_test.shape)\n",
    "# print(X_test_.shape)"
   ]
  },
  {
   "cell_type": "markdown",
   "id": "b596efb6",
   "metadata": {},
   "source": [
    "#### check the interpolation"
   ]
  },
  {
   "cell_type": "code",
   "execution_count": 87,
   "id": "c7f8a212",
   "metadata": {},
   "outputs": [
    {
     "name": "stdout",
     "output_type": "stream",
     "text": [
      "y= [0 0 0 1]\n",
      "Disease = STTC\n"
     ]
    },
    {
     "data": {
      "image/png": "[encoded data removed]",
      "text/plain": [
       "<Figure size 432x288 with 1 Axes>"
      ]
     },
     "metadata": {
      "needs_background": "light"
     },
     "output_type": "display_data"
    }
   ],
   "source": [
    "import numpy as np\n",
    "import matplotlib.pyplot as plt\n",
    "\n",
    "y = np.linspace(0,10,5000)\n",
    "y_ =np.linspace(0,10,4096)\n",
    "\n",
    "ObsID=20     #you can change the obsevations here\n",
    "ChannelID=1 #you can change the channel here\n",
    "\n",
    "# plt.subplot(2, 1, 1)\n",
    "# plt.plot(y,X_train[ObsID,:,ChannelID])\n",
    "plt.subplot(2, 1, 2)\n",
    "plt.plot(y_,X_train_[ObsID,:,ChannelID])\n",
    "\n",
    "print('y=',y_train[ObsID])\n",
    "\n",
    "if (y_train[ObsID][0]==1):\n",
    "    print(\"Disease = MI\")\n",
    "elif (y_train[ObsID][1]==1):\n",
    "    print(\"Disease = HYP\")\n",
    "elif (y_train[ObsID][2]==1):\n",
    "    print(\"Disease = CD\")\n",
    "elif (y_train[ObsID][3]==1):\n",
    "    print(\"Disease = STTC\")"
   ]
  },
  {
   "cell_type": "markdown",
   "id": "85a2b0e7",
   "metadata": {},
   "source": [
    "### Etude des données :\n",
    "\n",
    "On fait une rapide étude des données, pour savoir si les classes (positif/négatif) sont équilibrées ou non."
   ]
  },
  {
   "cell_type": "code",
   "execution_count": 25,
   "id": "8f8bf454",
   "metadata": {},
   "outputs": [
    {
     "name": "stdout",
     "output_type": "stream",
     "text": [
      "nombre de positifs pour MI 4933\n",
      "nombre de positifs pour HYP 2392\n",
      "nombre de positifs pour CD 4409\n",
      "nombre de positifs pour STTC 4727\n",
      "\n",
      "taille de y_train : (19267, 4)\n",
      "\n",
      "proportion de positifs pour MI 25.603363263611445\n",
      "proportion de positifs pour HYP 12.415010120932207\n",
      "proportion de positifs pour CD 22.883687133440677\n",
      "proportion de positifs pour STTC 24.534177609384006\n",
      "16461\n",
      "16461\n"
     ]
    }
   ],
   "source": [
    "print(\"nombre de positifs pour MI\", sum(y_train[:,0]))\n",
    "print(\"nombre de positifs pour HYP\", sum(y_train[:,1]))\n",
    "print(\"nombre de positifs pour CD\", sum(y_train[:,2]))\n",
    "print(\"nombre de positifs pour STTC\", sum(y_train[:,3]))\n",
    "print(\"\")\n",
    "print(\"taille de y_train :\", y_train.shape)\n",
    "print(\"\")\n",
    "\n",
    "print(\"proportion de positifs pour MI\", sum(y_train[:,0]/y_train.shape[0]*100))\n",
    "print(\"proportion de positifs pour HYP\", sum(y_train[:,1]/y_train.shape[0]*100))\n",
    "print(\"proportion de positifs pour CD\", sum(y_train[:,2]/y_train.shape[0]*100))\n",
    "print(\"proportion de positifs pour STTC\", sum(y_train[:,3]/y_train.shape[0]*100))\n",
    "\n"
   ]
  },
  {
   "cell_type": "markdown",
   "id": "b336e646",
   "metadata": {},
   "source": [
    "On peut voir que les données sont plutôt déséquilibrées entre les diagnostics positifs et les négatifs : pour chaque maladie, il y a au moins 75% de personnes saines. Cela est à prendre en compte dans l'élaboration de notre classifieur : il est possible qu'il ne prenne pas en compte les personnes présentant des anomalies car elles sont en trop faible nombre par rapport aux personnes saines.\\\n",
    "C'est surtout le cas pour la HYP."
   ]
  },
  {
   "cell_type": "code",
   "execution_count": null,
   "id": "f8e2f0d7",
   "metadata": {},
   "outputs": [],
   "source": [
    "## Sauvegarde des données en Pickle\n",
    "# path_pkl =  './data/'   ## accès au fichier dans lequel on veut save les pkl\n",
    "# with open(path_pkl +'Xtrain_.pkl','wb') as f: \n",
    "#     pickle.dump(X_train_, f)\n",
    "    \n",
    "# with open(path_pkl +'Xtest_.pkl','wb') as f: \n",
    "#     pickle.dump(X_test_, f)\n",
    "    \n",
    "# with open(path_pkl +'Ytrain.pkl','wb') as f: \n",
    "#     pickle.dump(y_train, f)\n",
    "\n",
    "# with open(path_pkl +'Ytest.pkl','wb') as f: \n",
    "#     pickle.dump(y_test, f)"
   ]
  },
  {
   "cell_type": "markdown",
   "id": "9008e930",
   "metadata": {},
   "source": [
    "### Importation du modèle"
   ]
  },
  {
   "cell_type": "code",
   "execution_count": 4,
   "id": "cc00b374",
   "metadata": {},
   "outputs": [],
   "source": [
    "import argparse\n",
    "#warnings.filterwarnings(\"ignore\")\n",
    "from tensorflow.keras.models import load_model\n",
    "from tensorflow.keras.optimizers import Adam\n",
    "from datasets import ECGSequence\n",
    "\n",
    "### Chargement du modèle\n",
    "\n",
    "parser = argparse.ArgumentParser(description='Get performance on test set from hdf5')\n",
    "parser.add_argument('path_to_hdf5', type=str,\n",
    "                    help='path to hdf5 file containing tracings')\n",
    "parser.add_argument('path_to_model',  # or model_date_order.hdf5\n",
    "                    help='file containing training model.')\n",
    "parser.add_argument('--dataset_name', type=str, default='tracings',\n",
    "                    help='name of the hdf5 dataset containing tracings')\n",
    "parser.add_argument('--output_file', default=\"./dnn_output2.npy\",  # or predictions_date_order.csv\n",
    "                    help='output csv file.')\n",
    "parser.add_argument('-bs', type=int, default=32,\n",
    "                    help='Batch size.')\n",
    "\n",
    "args, unk = parser.parse_known_args([\"./data/ecg_tracings.hdf5\",\"./data/model/model.hdf5\"])\n",
    "if unk:\n",
    "    warnings.warn(\"Unknown arguments:\" + str(unk) + \".\")\n",
    "\n",
    "# Import data\n",
    "seq = ECGSequence(args.path_to_hdf5, args.dataset_name, batch_size=args.bs)\n",
    "#Import model\n",
    "model = load_model(args.path_to_model, compile=False)\n",
    "\n",
    "\n",
    "\n",
    "    "
   ]
  },
  {
   "cell_type": "code",
   "execution_count": 29,
   "id": "38fd6fed",
   "metadata": {},
   "outputs": [
    {
     "name": "stdout",
     "output_type": "stream",
     "text": [
      "Model: \"model_7\"\n",
      "__________________________________________________________________________________________________\n",
      " Layer (type)                   Output Shape         Param #     Connected to                     \n",
      "==================================================================================================\n",
      " signal (InputLayer)            [(None, 4096, 12)]   0           []                               \n",
      "                                                                                                  \n",
      " conv1d_1 (Conv1D)              (None, 4096, 64)     12288       ['signal[0][0]']                 \n",
      "                                                                                                  \n",
      " batch_normalization_1 (BatchNo  (None, 4096, 64)    256         ['conv1d_1[0][0]']               \n",
      " rmalization)                                                                                     \n",
      "                                                                                                  \n",
      " activation_1 (Activation)      (None, 4096, 64)     0           ['batch_normalization_1[0][0]']  \n",
      "                                                                                                  \n",
      " conv1d_3 (Conv1D)              (None, 4096, 128)    131072      ['activation_1[0][0]']           \n",
      "                                                                                                  \n",
      " batch_normalization_2 (BatchNo  (None, 4096, 128)   512         ['conv1d_3[0][0]']               \n",
      " rmalization)                                                                                     \n",
      "                                                                                                  \n",
      " activation_2 (Activation)      (None, 4096, 128)    0           ['batch_normalization_2[0][0]']  \n",
      "                                                                                                  \n",
      " dropout_1 (Dropout)            (None, 4096, 128)    0           ['activation_2[0][0]']           \n",
      "                                                                                                  \n",
      " max_pooling1d_1 (MaxPooling1D)  (None, 1024, 64)    0           ['activation_1[0][0]']           \n",
      "                                                                                                  \n",
      " conv1d_4 (Conv1D)              (None, 1024, 128)    262144      ['dropout_1[0][0]']              \n",
      "                                                                                                  \n",
      " conv1d_2 (Conv1D)              (None, 1024, 128)    8192        ['max_pooling1d_1[0][0]']        \n",
      "                                                                                                  \n",
      " add_1 (Add)                    (None, 1024, 128)    0           ['conv1d_4[0][0]',               \n",
      "                                                                  'conv1d_2[0][0]']               \n",
      "                                                                                                  \n",
      " batch_normalization_3 (BatchNo  (None, 1024, 128)   512         ['add_1[0][0]']                  \n",
      " rmalization)                                                                                     \n",
      "                                                                                                  \n",
      " activation_3 (Activation)      (None, 1024, 128)    0           ['batch_normalization_3[0][0]']  \n",
      "                                                                                                  \n",
      " dropout_2 (Dropout)            (None, 1024, 128)    0           ['activation_3[0][0]']           \n",
      "                                                                                                  \n",
      " conv1d_6 (Conv1D)              (None, 1024, 196)    401408      ['dropout_2[0][0]']              \n",
      "                                                                                                  \n",
      " batch_normalization_4 (BatchNo  (None, 1024, 196)   784         ['conv1d_6[0][0]']               \n",
      " rmalization)                                                                                     \n",
      "                                                                                                  \n",
      " activation_4 (Activation)      (None, 1024, 196)    0           ['batch_normalization_4[0][0]']  \n",
      "                                                                                                  \n",
      " dropout_3 (Dropout)            (None, 1024, 196)    0           ['activation_4[0][0]']           \n",
      "                                                                                                  \n",
      " max_pooling1d_2 (MaxPooling1D)  (None, 256, 128)    0           ['add_1[0][0]']                  \n",
      "                                                                                                  \n",
      " conv1d_7 (Conv1D)              (None, 256, 196)     614656      ['dropout_3[0][0]']              \n",
      "                                                                                                  \n",
      " conv1d_5 (Conv1D)              (None, 256, 196)     25088       ['max_pooling1d_2[0][0]']        \n",
      "                                                                                                  \n",
      " add_2 (Add)                    (None, 256, 196)     0           ['conv1d_7[0][0]',               \n",
      "                                                                  'conv1d_5[0][0]']               \n",
      "                                                                                                  \n",
      " batch_normalization_5 (BatchNo  (None, 256, 196)    784         ['add_2[0][0]']                  \n",
      " rmalization)                                                                                     \n",
      "                                                                                                  \n",
      " activation_5 (Activation)      (None, 256, 196)     0           ['batch_normalization_5[0][0]']  \n",
      "                                                                                                  \n",
      " dropout_4 (Dropout)            (None, 256, 196)     0           ['activation_5[0][0]']           \n",
      "                                                                                                  \n",
      " conv1d_9 (Conv1D)              (None, 256, 256)     802816      ['dropout_4[0][0]']              \n",
      "                                                                                                  \n",
      " batch_normalization_6 (BatchNo  (None, 256, 256)    1024        ['conv1d_9[0][0]']               \n",
      " rmalization)                                                                                     \n",
      "                                                                                                  \n",
      " activation_6 (Activation)      (None, 256, 256)     0           ['batch_normalization_6[0][0]']  \n",
      "                                                                                                  \n",
      " dropout_5 (Dropout)            (None, 256, 256)     0           ['activation_6[0][0]']           \n",
      "                                                                                                  \n",
      " max_pooling1d_3 (MaxPooling1D)  (None, 64, 196)     0           ['add_2[0][0]']                  \n",
      "                                                                                                  \n",
      " conv1d_10 (Conv1D)             (None, 64, 256)      1048576     ['dropout_5[0][0]']              \n",
      "                                                                                                  \n",
      " conv1d_8 (Conv1D)              (None, 64, 256)      50176       ['max_pooling1d_3[0][0]']        \n",
      "                                                                                                  \n",
      " add_3 (Add)                    (None, 64, 256)      0           ['conv1d_10[0][0]',              \n",
      "                                                                  'conv1d_8[0][0]']               \n",
      "                                                                                                  \n",
      " batch_normalization_7 (BatchNo  (None, 64, 256)     1024        ['add_3[0][0]']                  \n",
      " rmalization)                                                                                     \n",
      "                                                                                                  \n",
      " activation_7 (Activation)      (None, 64, 256)      0           ['batch_normalization_7[0][0]']  \n",
      "                                                                                                  \n",
      " dropout_6 (Dropout)            (None, 64, 256)      0           ['activation_7[0][0]']           \n",
      "                                                                                                  \n",
      " conv1d_12 (Conv1D)             (None, 64, 320)      1310720     ['dropout_6[0][0]']              \n",
      "                                                                                                  \n",
      " batch_normalization_8 (BatchNo  (None, 64, 320)     1280        ['conv1d_12[0][0]']              \n",
      " rmalization)                                                                                     \n",
      "                                                                                                  \n",
      " activation_8 (Activation)      (None, 64, 320)      0           ['batch_normalization_8[0][0]']  \n",
      "                                                                                                  \n",
      " dropout_7 (Dropout)            (None, 64, 320)      0           ['activation_8[0][0]']           \n",
      "                                                                                                  \n",
      " max_pooling1d_4 (MaxPooling1D)  (None, 16, 256)     0           ['add_3[0][0]']                  \n",
      "                                                                                                  \n",
      " conv1d_13 (Conv1D)             (None, 16, 320)      1638400     ['dropout_7[0][0]']              \n",
      "                                                                                                  \n",
      " conv1d_11 (Conv1D)             (None, 16, 320)      81920       ['max_pooling1d_4[0][0]']        \n",
      "                                                                                                  \n",
      " add_4 (Add)                    (None, 16, 320)      0           ['conv1d_13[0][0]',              \n",
      "                                                                  'conv1d_11[0][0]']              \n",
      "                                                                                                  \n",
      " batch_normalization_9 (BatchNo  (None, 16, 320)     1280        ['add_4[0][0]']                  \n",
      " rmalization)                                                                                     \n",
      "                                                                                                  \n",
      " activation_9 (Activation)      (None, 16, 320)      0           ['batch_normalization_9[0][0]']  \n",
      "                                                                                                  \n",
      " dropout_8 (Dropout)            (None, 16, 320)      0           ['activation_9[0][0]']           \n",
      "                                                                                                  \n",
      " flatten_1 (Flatten)            (None, 5120)         0           ['dropout_8[0][0]']              \n",
      "                                                                                                  \n",
      " dense_8 (Dense)                (None, 6)            30726       ['flatten_1[0][0]']              \n",
      "                                                                                                  \n",
      "==================================================================================================\n",
      "Total params: 6,425,638\n",
      "Trainable params: 0\n",
      "Non-trainable params: 6,425,638\n",
      "__________________________________________________________________________________________________\n"
     ]
    }
   ],
   "source": [
    "model.summary()"
   ]
  },
  {
   "cell_type": "markdown",
   "id": "a7c074d2",
   "metadata": {},
   "source": [
    "### Transfert Learning"
   ]
  },
  {
   "cell_type": "code",
   "execution_count": 10,
   "id": "224730fc",
   "metadata": {},
   "outputs": [],
   "source": [
    "## On gèle le modèle\n",
    "model.trainable = False"
   ]
  },
  {
   "cell_type": "code",
   "execution_count": 11,
   "id": "0a333205",
   "metadata": {},
   "outputs": [],
   "source": [
    "## On récupère les outputs de chaque couches du modele, sauf la dernière\n",
    "model_output = [layer.output for layer in model.layers[:-1]]\n",
    "## On crée des nouvelles couches de sortie\n",
    "new_end = Dense(4096, activation = 'relu')(model_output[-1])\n",
    "new_end = Dense(4096, activation = 'relu')(new_end)\n",
    "\n",
    "## On veut des prédictions binaires -> sigmoid\n",
    "new_end = Dense(4, activation = 'sigmoid')(new_end)\n",
    "\n",
    "## On crée notre nouveau réseau qui contient le réseau de Nature, et les nouvelles couches de sortie\n",
    "new_model = tensorflow.keras.Model(inputs = model.input, outputs = new_end)"
   ]
  },
  {
   "cell_type": "code",
   "execution_count": 12,
   "id": "1a536685",
   "metadata": {
    "scrolled": true
   },
   "outputs": [
    {
     "name": "stdout",
     "output_type": "stream",
     "text": [
      "Model: \"model_1\"\n",
      "__________________________________________________________________________________________________\n",
      " Layer (type)                   Output Shape         Param #     Connected to                     \n",
      "==================================================================================================\n",
      " signal (InputLayer)            [(None, 4096, 12)]   0           []                               \n",
      "                                                                                                  \n",
      " conv1d_1 (Conv1D)              (None, 4096, 64)     12288       ['signal[0][0]']                 \n",
      "                                                                                                  \n",
      " batch_normalization_1 (BatchNo  (None, 4096, 64)    256         ['conv1d_1[0][0]']               \n",
      " rmalization)                                                                                     \n",
      "                                                                                                  \n",
      " activation_1 (Activation)      (None, 4096, 64)     0           ['batch_normalization_1[0][0]']  \n",
      "                                                                                                  \n",
      " conv1d_3 (Conv1D)              (None, 4096, 128)    131072      ['activation_1[0][0]']           \n",
      "                                                                                                  \n",
      " batch_normalization_2 (BatchNo  (None, 4096, 128)   512         ['conv1d_3[0][0]']               \n",
      " rmalization)                                                                                     \n",
      "                                                                                                  \n",
      " activation_2 (Activation)      (None, 4096, 128)    0           ['batch_normalization_2[0][0]']  \n",
      "                                                                                                  \n",
      " dropout_1 (Dropout)            (None, 4096, 128)    0           ['activation_2[0][0]']           \n",
      "                                                                                                  \n",
      " max_pooling1d_1 (MaxPooling1D)  (None, 1024, 64)    0           ['activation_1[0][0]']           \n",
      "                                                                                                  \n",
      " conv1d_4 (Conv1D)              (None, 1024, 128)    262144      ['dropout_1[0][0]']              \n",
      "                                                                                                  \n",
      " conv1d_2 (Conv1D)              (None, 1024, 128)    8192        ['max_pooling1d_1[0][0]']        \n",
      "                                                                                                  \n",
      " add_1 (Add)                    (None, 1024, 128)    0           ['conv1d_4[0][0]',               \n",
      "                                                                  'conv1d_2[0][0]']               \n",
      "                                                                                                  \n",
      " batch_normalization_3 (BatchNo  (None, 1024, 128)   512         ['add_1[0][0]']                  \n",
      " rmalization)                                                                                     \n",
      "                                                                                                  \n",
      " activation_3 (Activation)      (None, 1024, 128)    0           ['batch_normalization_3[0][0]']  \n",
      "                                                                                                  \n",
      " dropout_2 (Dropout)            (None, 1024, 128)    0           ['activation_3[0][0]']           \n",
      "                                                                                                  \n",
      " conv1d_6 (Conv1D)              (None, 1024, 196)    401408      ['dropout_2[0][0]']              \n",
      "                                                                                                  \n",
      " batch_normalization_4 (BatchNo  (None, 1024, 196)   784         ['conv1d_6[0][0]']               \n",
      " rmalization)                                                                                     \n",
      "                                                                                                  \n",
      " activation_4 (Activation)      (None, 1024, 196)    0           ['batch_normalization_4[0][0]']  \n",
      "                                                                                                  \n",
      " dropout_3 (Dropout)            (None, 1024, 196)    0           ['activation_4[0][0]']           \n",
      "                                                                                                  \n",
      " max_pooling1d_2 (MaxPooling1D)  (None, 256, 128)    0           ['add_1[0][0]']                  \n",
      "                                                                                                  \n",
      " conv1d_7 (Conv1D)              (None, 256, 196)     614656      ['dropout_3[0][0]']              \n",
      "                                                                                                  \n",
      " conv1d_5 (Conv1D)              (None, 256, 196)     25088       ['max_pooling1d_2[0][0]']        \n",
      "                                                                                                  \n",
      " add_2 (Add)                    (None, 256, 196)     0           ['conv1d_7[0][0]',               \n",
      "                                                                  'conv1d_5[0][0]']               \n",
      "                                                                                                  \n",
      " batch_normalization_5 (BatchNo  (None, 256, 196)    784         ['add_2[0][0]']                  \n",
      " rmalization)                                                                                     \n",
      "                                                                                                  \n",
      " activation_5 (Activation)      (None, 256, 196)     0           ['batch_normalization_5[0][0]']  \n",
      "                                                                                                  \n",
      " dropout_4 (Dropout)            (None, 256, 196)     0           ['activation_5[0][0]']           \n",
      "                                                                                                  \n",
      " conv1d_9 (Conv1D)              (None, 256, 256)     802816      ['dropout_4[0][0]']              \n",
      "                                                                                                  \n",
      " batch_normalization_6 (BatchNo  (None, 256, 256)    1024        ['conv1d_9[0][0]']               \n",
      " rmalization)                                                                                     \n",
      "                                                                                                  \n",
      " activation_6 (Activation)      (None, 256, 256)     0           ['batch_normalization_6[0][0]']  \n",
      "                                                                                                  \n",
      " dropout_5 (Dropout)            (None, 256, 256)     0           ['activation_6[0][0]']           \n",
      "                                                                                                  \n",
      " max_pooling1d_3 (MaxPooling1D)  (None, 64, 196)     0           ['add_2[0][0]']                  \n",
      "                                                                                                  \n",
      " conv1d_10 (Conv1D)             (None, 64, 256)      1048576     ['dropout_5[0][0]']              \n",
      "                                                                                                  \n",
      " conv1d_8 (Conv1D)              (None, 64, 256)      50176       ['max_pooling1d_3[0][0]']        \n",
      "                                                                                                  \n",
      " add_3 (Add)                    (None, 64, 256)      0           ['conv1d_10[0][0]',              \n",
      "                                                                  'conv1d_8[0][0]']               \n",
      "                                                                                                  \n",
      " batch_normalization_7 (BatchNo  (None, 64, 256)     1024        ['add_3[0][0]']                  \n",
      " rmalization)                                                                                     \n",
      "                                                                                                  \n",
      " activation_7 (Activation)      (None, 64, 256)      0           ['batch_normalization_7[0][0]']  \n",
      "                                                                                                  \n",
      " dropout_6 (Dropout)            (None, 64, 256)      0           ['activation_7[0][0]']           \n",
      "                                                                                                  \n",
      " conv1d_12 (Conv1D)             (None, 64, 320)      1310720     ['dropout_6[0][0]']              \n",
      "                                                                                                  \n",
      " batch_normalization_8 (BatchNo  (None, 64, 320)     1280        ['conv1d_12[0][0]']              \n",
      " rmalization)                                                                                     \n",
      "                                                                                                  \n",
      " activation_8 (Activation)      (None, 64, 320)      0           ['batch_normalization_8[0][0]']  \n",
      "                                                                                                  \n",
      " dropout_7 (Dropout)            (None, 64, 320)      0           ['activation_8[0][0]']           \n",
      "                                                                                                  \n",
      " max_pooling1d_4 (MaxPooling1D)  (None, 16, 256)     0           ['add_3[0][0]']                  \n",
      "                                                                                                  \n",
      " conv1d_13 (Conv1D)             (None, 16, 320)      1638400     ['dropout_7[0][0]']              \n",
      "                                                                                                  \n",
      " conv1d_11 (Conv1D)             (None, 16, 320)      81920       ['max_pooling1d_4[0][0]']        \n",
      "                                                                                                  \n",
      " add_4 (Add)                    (None, 16, 320)      0           ['conv1d_13[0][0]',              \n",
      "                                                                  'conv1d_11[0][0]']              \n",
      "                                                                                                  \n",
      " batch_normalization_9 (BatchNo  (None, 16, 320)     1280        ['add_4[0][0]']                  \n",
      " rmalization)                                                                                     \n",
      "                                                                                                  \n",
      " activation_9 (Activation)      (None, 16, 320)      0           ['batch_normalization_9[0][0]']  \n",
      "                                                                                                  \n",
      " dropout_8 (Dropout)            (None, 16, 320)      0           ['activation_9[0][0]']           \n",
      "                                                                                                  \n",
      " flatten_1 (Flatten)            (None, 5120)         0           ['dropout_8[0][0]']              \n",
      "                                                                                                  \n",
      " dense_3 (Dense)                (None, 4096)         20975616    ['flatten_1[0][0]']              \n",
      "                                                                                                  \n",
      " dense_4 (Dense)                (None, 4096)         16781312    ['dense_3[0][0]']                \n",
      "                                                                                                  \n",
      " dense_5 (Dense)                (None, 4)            16388       ['dense_4[0][0]']                \n",
      "                                                                                                  \n",
      "==================================================================================================\n",
      "Total params: 44,168,228\n",
      "Trainable params: 37,773,316\n",
      "Non-trainable params: 6,394,912\n",
      "__________________________________________________________________________________________________\n"
     ]
    }
   ],
   "source": [
    "new_model.summary()"
   ]
  },
  {
   "cell_type": "markdown",
   "id": "b2ec772a",
   "metadata": {},
   "source": [
    "Ci-dessous, on entraîne d'abord le réseau avec toutes les couches gelées sauf les dernières."
   ]
  },
  {
   "cell_type": "code",
   "execution_count": 18,
   "id": "1a555461",
   "metadata": {},
   "outputs": [
    {
     "name": "stdout",
     "output_type": "stream",
     "text": [
      "Epoch 1/12\n",
      "121/121 [==============================] - 283s 2s/step - loss: 0.4551 - val_loss: 0.4470\n",
      "Epoch 2/12\n",
      "121/121 [==============================] - 274s 2s/step - loss: 0.4264 - val_loss: 0.4312\n",
      "Epoch 3/12\n",
      "121/121 [==============================] - 281s 2s/step - loss: 0.4186 - val_loss: 0.4342\n",
      "Epoch 4/12\n",
      "121/121 [==============================] - 280s 2s/step - loss: 0.4149 - val_loss: 0.4272\n",
      "Epoch 5/12\n",
      "121/121 [==============================] - 276s 2s/step - loss: 0.4136 - val_loss: 0.4199\n",
      "Epoch 6/12\n",
      "121/121 [==============================] - 276s 2s/step - loss: 0.4115 - val_loss: 0.4202\n",
      "Epoch 7/12\n",
      "121/121 [==============================] - 276s 2s/step - loss: 0.4091 - val_loss: 0.4252\n",
      "Epoch 8/12\n",
      "121/121 [==============================] - 275s 2s/step - loss: 0.4069 - val_loss: 0.4225\n",
      "Epoch 9/12\n",
      "121/121 [==============================] - 288s 2s/step - loss: 0.4074 - val_loss: 0.4217\n",
      "Epoch 10/12\n",
      "121/121 [==============================] - 309s 3s/step - loss: 0.4063 - val_loss: 0.4127\n",
      "Epoch 11/12\n",
      "121/121 [==============================] - 308s 3s/step - loss: 0.4054 - val_loss: 0.4152\n",
      "Epoch 12/12\n",
      "121/121 [==============================] - 307s 3s/step - loss: 0.4068 - val_loss: 0.4136\n"
     ]
    },
    {
     "data": {
      "text/plain": [
       "<tensorflow.python.keras.callbacks.History at 0x24ab67deca0>"
      ]
     },
     "execution_count": 18,
     "metadata": {},
     "output_type": "execute_result"
    }
   ],
   "source": [
    "new_model.compile(loss = 'binary_crossentropy', optimizer = Adam())\n",
    "new_model.fit(X_train_, y_train, batch_size = 128, epochs = 12, validation_split = 0.2)"
   ]
  },
  {
   "cell_type": "code",
   "execution_count": 19,
   "id": "151feab1",
   "metadata": {},
   "outputs": [],
   "source": [
    "df_predicts = new_model.predict(X_test_)\n",
    "df_predicts = np.round(df_predicts)\n",
    "df_predicts = pd.DataFrame(data = df_predicts, columns = [\"MI\",\"HYP\",\"CD\",\"STTC\"])\n",
    "\n",
    "## On save les prédictions\n",
    "# df_predicts.to_csv('Pred_Dense.csv')"
   ]
  },
  {
   "cell_type": "code",
   "execution_count": 41,
   "id": "0422c08e",
   "metadata": {},
   "outputs": [],
   "source": [
    "## On met sous forme de dataframe pour pouvoir étudier les résultats\n",
    "df_test = pd.DataFrame(data = y_test, columns = [\"MI\",\"HYP\",\"CD\",\"STTC\"])\n",
    "df_predicts = pd.read_csv('Pred_Dense.csv',sep=\",\",index_col=0)"
   ]
  },
  {
   "cell_type": "markdown",
   "id": "6e68346a",
   "metadata": {},
   "source": [
    "#### Première étude des résultats"
   ]
  },
  {
   "cell_type": "code",
   "execution_count": 45,
   "id": "27999d57",
   "metadata": {},
   "outputs": [
    {
     "name": "stdout",
     "output_type": "stream",
     "text": [
      "Matrice de confusion [[1539  409]\n",
      " [  71  144]]\n",
      "Pourcentage d'erreur 22.191400832177532\n",
      "Score pour MI : 77.80859916782246\n",
      "F1-Score pour MI : 37.50000000000001\n"
     ]
    }
   ],
   "source": [
    "cm = confusion_matrix(df_predicts[\"MI\"], df_test[\"MI\"])\n",
    "Err = (cm[0,1] + cm[1,0]) / y_test.shape[0]*100\n",
    "print(\"Matrice de confusion\", cm)\n",
    "print(\"Pourcentage d'erreur\", Err)\n",
    "print(\"Score pour MI :\", accuracy_score(df_predicts[\"MI\"], df_test[\"MI\"])*100)\n",
    "print(\"F1-Score pour MI :\", f1_score(df_predicts[\"MI\"], df_test[\"MI\"])*100)"
   ]
  },
  {
   "cell_type": "code",
   "execution_count": 46,
   "id": "1e8e6075",
   "metadata": {},
   "outputs": [
    {
     "name": "stdout",
     "output_type": "stream",
     "text": [
      "Matrice de confusion [[1900  263]\n",
      " [   0    0]]\n",
      "Pourcentage d'erreur 12.159038372630606\n",
      "Score pour HYP : 87.8409616273694\n",
      "F1Score pour HYP : 0.0\n"
     ]
    }
   ],
   "source": [
    "cm = confusion_matrix(df_predicts[\"HYP\"], df_test[\"HYP\"])\n",
    "Err = (cm[0,1] + cm[1,0]) / y_test.shape[0]*100\n",
    "print(\"Matrice de confusion\", cm)\n",
    "print(\"Pourcentage d'erreur\", Err)\n",
    "print(\"Score pour HYP :\", accuracy_score(df_predicts[\"HYP\"], df_test[\"HYP\"])*100)\n",
    "print(\"F1-Score pour HYP :\", f1_score(df_predicts[\"HYP\"], df_test[\"HYP\"])*100)"
   ]
  },
  {
   "cell_type": "code",
   "execution_count": 49,
   "id": "c423f418",
   "metadata": {},
   "outputs": [
    {
     "name": "stdout",
     "output_type": "stream",
     "text": [
      "Matrice de confusion [[1635  277]\n",
      " [  30  221]]\n",
      "Pourcentage d'erreur 14.193250115580213\n",
      "Score pour CD : 85.80674988441979\n",
      "F1-Score pour CD : 59.012016021361816\n"
     ]
    }
   ],
   "source": [
    "cm = confusion_matrix(df_predicts[\"CD\"], df_test[\"CD\"])\n",
    "Err = (cm[0,1] + cm[1,0]) / y_test.shape[0]*100\n",
    "print(\"Matrice de confusion\", cm)\n",
    "print(\"Pourcentage d'erreur\", Err)\n",
    "print(\"Score pour CD :\", accuracy_score(df_predicts[\"CD\"], df_test[\"CD\"])*100)\n",
    "print(\"F1-Score pour CD :\", f1_score(df_predicts[\"CD\"], df_test[\"CD\"])*100)"
   ]
  },
  {
   "cell_type": "code",
   "execution_count": 48,
   "id": "ff245e2d",
   "metadata": {},
   "outputs": [
    {
     "name": "stdout",
     "output_type": "stream",
     "text": [
      "Matrice de confusion [[1586  428]\n",
      " [  54   95]]\n",
      "Pourcentage d'erreur 22.283865002311604\n",
      "score du dnn pour STTC : 77.71613499768839\n",
      "F1-score du dnn pour STTC : 28.27380952380952\n"
     ]
    }
   ],
   "source": [
    "cm = confusion_matrix(df_predicts[\"STTC\"], df_test[\"STTC\"])\n",
    "Err = (cm[0,1] + cm[1,0]) / y_test.shape[0]*100\n",
    "print(\"Matrice de confusion\", cm)\n",
    "print(\"Pourcentage d'erreur\", Err)\n",
    "print(\"score du dnn pour STTC :\", accuracy_score(df_predicts[\"STTC\"], df_test[\"STTC\"])*100)\n",
    "print(\"F1-score du dnn pour STTC :\", f1_score(df_predicts[\"STTC\"], df_test[\"STTC\"])*100)"
   ]
  },
  {
   "cell_type": "markdown",
   "id": "a5d072fd",
   "metadata": {},
   "source": [
    "Après avoir effectué un transfert learning, on constate avec les matrices de confusion que le réseau a beaucoup de mal à prédire des anomalies. C'est ce que nous craignions lorsque nous avons analysé les données précédemment. En particulier, il ne détecte aucune anomalie du groupe HYP.\\\n",
    "On note aussi que le f1-score est très faible, ce qui montre bien l'imprécision du modèle.\n",
    "\n",
    "Nous allons utiliser du fine-tuning, pour essayer d'obtenir de meilleurs résultats."
   ]
  },
  {
   "cell_type": "markdown",
   "id": "40cf901a",
   "metadata": {},
   "source": [
    "### Fine-tuning\n",
    "\n",
    "Le fine tuning consiste à dégeler le réseau de neuronne et l'entraîner sur les nouvelles données, tout en gardant les couches Dense entraînées précédemment."
   ]
  },
  {
   "cell_type": "code",
   "execution_count": 7,
   "id": "d1927484",
   "metadata": {},
   "outputs": [],
   "source": [
    "## On dégèle le modèle\n",
    "model.trainable = True"
   ]
  },
  {
   "cell_type": "code",
   "execution_count": 8,
   "id": "8b59a70b",
   "metadata": {},
   "outputs": [
    {
     "name": "stdout",
     "output_type": "stream",
     "text": [
      "Model: \"model\"\n",
      "__________________________________________________________________________________________________\n",
      " Layer (type)                   Output Shape         Param #     Connected to                     \n",
      "==================================================================================================\n",
      " signal (InputLayer)            [(None, 4096, 12)]   0           []                               \n",
      "                                                                                                  \n",
      " conv1d_1 (Conv1D)              (None, 4096, 64)     12288       ['signal[0][0]']                 \n",
      "                                                                                                  \n",
      " batch_normalization_1 (BatchNo  (None, 4096, 64)    256         ['conv1d_1[0][0]']               \n",
      " rmalization)                                                                                     \n",
      "                                                                                                  \n",
      " activation_1 (Activation)      (None, 4096, 64)     0           ['batch_normalization_1[0][0]']  \n",
      "                                                                                                  \n",
      " conv1d_3 (Conv1D)              (None, 4096, 128)    131072      ['activation_1[0][0]']           \n",
      "                                                                                                  \n",
      " batch_normalization_2 (BatchNo  (None, 4096, 128)   512         ['conv1d_3[0][0]']               \n",
      " rmalization)                                                                                     \n",
      "                                                                                                  \n",
      " activation_2 (Activation)      (None, 4096, 128)    0           ['batch_normalization_2[0][0]']  \n",
      "                                                                                                  \n",
      " dropout_1 (Dropout)            (None, 4096, 128)    0           ['activation_2[0][0]']           \n",
      "                                                                                                  \n",
      " max_pooling1d_1 (MaxPooling1D)  (None, 1024, 64)    0           ['activation_1[0][0]']           \n",
      "                                                                                                  \n",
      " conv1d_4 (Conv1D)              (None, 1024, 128)    262144      ['dropout_1[0][0]']              \n",
      "                                                                                                  \n",
      " conv1d_2 (Conv1D)              (None, 1024, 128)    8192        ['max_pooling1d_1[0][0]']        \n",
      "                                                                                                  \n",
      " add_1 (Add)                    (None, 1024, 128)    0           ['conv1d_4[0][0]',               \n",
      "                                                                  'conv1d_2[0][0]']               \n",
      "                                                                                                  \n",
      " batch_normalization_3 (BatchNo  (None, 1024, 128)   512         ['add_1[0][0]']                  \n",
      " rmalization)                                                                                     \n",
      "                                                                                                  \n",
      " activation_3 (Activation)      (None, 1024, 128)    0           ['batch_normalization_3[0][0]']  \n",
      "                                                                                                  \n",
      " dropout_2 (Dropout)            (None, 1024, 128)    0           ['activation_3[0][0]']           \n",
      "                                                                                                  \n",
      " conv1d_6 (Conv1D)              (None, 1024, 196)    401408      ['dropout_2[0][0]']              \n",
      "                                                                                                  \n",
      " batch_normalization_4 (BatchNo  (None, 1024, 196)   784         ['conv1d_6[0][0]']               \n",
      " rmalization)                                                                                     \n",
      "                                                                                                  \n",
      " activation_4 (Activation)      (None, 1024, 196)    0           ['batch_normalization_4[0][0]']  \n",
      "                                                                                                  \n",
      " dropout_3 (Dropout)            (None, 1024, 196)    0           ['activation_4[0][0]']           \n",
      "                                                                                                  \n",
      " max_pooling1d_2 (MaxPooling1D)  (None, 256, 128)    0           ['add_1[0][0]']                  \n",
      "                                                                                                  \n",
      " conv1d_7 (Conv1D)              (None, 256, 196)     614656      ['dropout_3[0][0]']              \n",
      "                                                                                                  \n",
      " conv1d_5 (Conv1D)              (None, 256, 196)     25088       ['max_pooling1d_2[0][0]']        \n",
      "                                                                                                  \n",
      " add_2 (Add)                    (None, 256, 196)     0           ['conv1d_7[0][0]',               \n",
      "                                                                  'conv1d_5[0][0]']               \n",
      "                                                                                                  \n",
      " batch_normalization_5 (BatchNo  (None, 256, 196)    784         ['add_2[0][0]']                  \n",
      " rmalization)                                                                                     \n",
      "                                                                                                  \n",
      " activation_5 (Activation)      (None, 256, 196)     0           ['batch_normalization_5[0][0]']  \n",
      "                                                                                                  \n",
      " dropout_4 (Dropout)            (None, 256, 196)     0           ['activation_5[0][0]']           \n",
      "                                                                                                  \n",
      " conv1d_9 (Conv1D)              (None, 256, 256)     802816      ['dropout_4[0][0]']              \n",
      "                                                                                                  \n",
      " batch_normalization_6 (BatchNo  (None, 256, 256)    1024        ['conv1d_9[0][0]']               \n",
      " rmalization)                                                                                     \n",
      "                                                                                                  \n",
      " activation_6 (Activation)      (None, 256, 256)     0           ['batch_normalization_6[0][0]']  \n",
      "                                                                                                  \n",
      " dropout_5 (Dropout)            (None, 256, 256)     0           ['activation_6[0][0]']           \n",
      "                                                                                                  \n",
      " max_pooling1d_3 (MaxPooling1D)  (None, 64, 196)     0           ['add_2[0][0]']                  \n",
      "                                                                                                  \n",
      " conv1d_10 (Conv1D)             (None, 64, 256)      1048576     ['dropout_5[0][0]']              \n",
      "                                                                                                  \n",
      " conv1d_8 (Conv1D)              (None, 64, 256)      50176       ['max_pooling1d_3[0][0]']        \n",
      "                                                                                                  \n",
      " add_3 (Add)                    (None, 64, 256)      0           ['conv1d_10[0][0]',              \n",
      "                                                                  'conv1d_8[0][0]']               \n",
      "                                                                                                  \n",
      " batch_normalization_7 (BatchNo  (None, 64, 256)     1024        ['add_3[0][0]']                  \n",
      " rmalization)                                                                                     \n",
      "                                                                                                  \n",
      " activation_7 (Activation)      (None, 64, 256)      0           ['batch_normalization_7[0][0]']  \n",
      "                                                                                                  \n",
      " dropout_6 (Dropout)            (None, 64, 256)      0           ['activation_7[0][0]']           \n",
      "                                                                                                  \n",
      " conv1d_12 (Conv1D)             (None, 64, 320)      1310720     ['dropout_6[0][0]']              \n",
      "                                                                                                  \n",
      " batch_normalization_8 (BatchNo  (None, 64, 320)     1280        ['conv1d_12[0][0]']              \n",
      " rmalization)                                                                                     \n",
      "                                                                                                  \n",
      " activation_8 (Activation)      (None, 64, 320)      0           ['batch_normalization_8[0][0]']  \n",
      "                                                                                                  \n",
      " dropout_7 (Dropout)            (None, 64, 320)      0           ['activation_8[0][0]']           \n",
      "                                                                                                  \n",
      " max_pooling1d_4 (MaxPooling1D)  (None, 16, 256)     0           ['add_3[0][0]']                  \n",
      "                                                                                                  \n",
      " conv1d_13 (Conv1D)             (None, 16, 320)      1638400     ['dropout_7[0][0]']              \n",
      "                                                                                                  \n",
      " conv1d_11 (Conv1D)             (None, 16, 320)      81920       ['max_pooling1d_4[0][0]']        \n",
      "                                                                                                  \n",
      " add_4 (Add)                    (None, 16, 320)      0           ['conv1d_13[0][0]',              \n",
      "                                                                  'conv1d_11[0][0]']              \n",
      "                                                                                                  \n",
      " batch_normalization_9 (BatchNo  (None, 16, 320)     1280        ['add_4[0][0]']                  \n",
      " rmalization)                                                                                     \n",
      "                                                                                                  \n",
      " activation_9 (Activation)      (None, 16, 320)      0           ['batch_normalization_9[0][0]']  \n",
      "                                                                                                  \n",
      " dropout_8 (Dropout)            (None, 16, 320)      0           ['activation_9[0][0]']           \n",
      "                                                                                                  \n",
      " flatten_1 (Flatten)            (None, 5120)         0           ['dropout_8[0][0]']              \n",
      "                                                                                                  \n",
      " dense (Dense)                  (None, 4096)         20975616    ['flatten_1[0][0]']              \n",
      "                                                                                                  \n",
      " dense_1 (Dense)                (None, 4096)         16781312    ['dense[0][0]']                  \n",
      "                                                                                                  \n",
      " dense_2 (Dense)                (None, 4)            16388       ['dense_1[0][0]']                \n",
      "                                                                                                  \n",
      "==================================================================================================\n",
      "Total params: 44,168,228\n",
      "Trainable params: 44,164,500\n",
      "Non-trainable params: 3,728\n",
      "__________________________________________________________________________________________________\n"
     ]
    }
   ],
   "source": [
    "new_model.summary()"
   ]
  },
  {
   "cell_type": "code",
   "execution_count": 26,
   "id": "6b01145e",
   "metadata": {},
   "outputs": [],
   "source": [
    "new_model.compile(loss = 'binary_crossentropy',  optimizer = Adam(1e-5))"
   ]
  },
  {
   "cell_type": "code",
   "execution_count": 27,
   "id": "f1a9d292",
   "metadata": {},
   "outputs": [],
   "source": [
    "#new_model.summary()"
   ]
  },
  {
   "cell_type": "code",
   "execution_count": 28,
   "id": "f9cbacdf",
   "metadata": {},
   "outputs": [
    {
     "name": "stdout",
     "output_type": "stream",
     "text": [
      "Epoch 1/12\n",
      "121/121 [==============================] - 986s 8s/step - loss: 0.4063 - val_loss: 0.4223\n",
      "Epoch 2/12\n",
      "121/121 [==============================] - 937s 8s/step - loss: 0.4037 - val_loss: 0.4186\n",
      "Epoch 3/12\n",
      "121/121 [==============================] - 920s 8s/step - loss: 0.4026 - val_loss: 0.4142\n",
      "Epoch 4/12\n",
      "121/121 [==============================] - 931s 8s/step - loss: 0.3990 - val_loss: 0.4122\n",
      "Epoch 5/12\n",
      "121/121 [==============================] - 919s 8s/step - loss: 0.3991 - val_loss: 0.4114\n",
      "Epoch 6/12\n",
      "121/121 [==============================] - 935s 8s/step - loss: 0.3957 - val_loss: 0.4101\n",
      "Epoch 7/12\n",
      "121/121 [==============================] - 981s 8s/step - loss: 0.3960 - val_loss: 0.4092\n",
      "Epoch 8/12\n",
      "121/121 [==============================] - 944s 8s/step - loss: 0.3946 - val_loss: 0.4080\n",
      "Epoch 9/12\n",
      "121/121 [==============================] - 914s 8s/step - loss: 0.3926 - val_loss: 0.4067\n",
      "Epoch 10/12\n",
      "121/121 [==============================] - 887s 7s/step - loss: 0.3915 - val_loss: 0.4057\n",
      "Epoch 11/12\n",
      "121/121 [==============================] - 960s 8s/step - loss: 0.3911 - val_loss: 0.4046\n",
      "Epoch 12/12\n",
      "121/121 [==============================] - 952s 8s/step - loss: 0.3891 - val_loss: 0.4036\n"
     ]
    },
    {
     "data": {
      "text/plain": [
       "<tensorflow.python.keras.callbacks.History at 0x24b910e1f70>"
      ]
     },
     "execution_count": 28,
     "metadata": {},
     "output_type": "execute_result"
    }
   ],
   "source": [
    "new_model.fit(X_train_, y_train, batch_size = 128, epochs = 12, validation_split = 0.2)"
   ]
  },
  {
   "cell_type": "code",
   "execution_count": 29,
   "id": "c6aa3521",
   "metadata": {},
   "outputs": [],
   "source": [
    "df_predicts2 = new_model.predict(X_test_)\n",
    "df_predicts2 = np.round(df_predicts2)\n",
    "df_predicts2 = pd.DataFrame(data = df_predicts2, columns = [\"MI\",\"HYP\",\"CD\",\"STTC\"])\n",
    "# df_predicts2.to_csv('Pred_Fine-Tuning.csv')"
   ]
  },
  {
   "cell_type": "code",
   "execution_count": 51,
   "id": "357db06b",
   "metadata": {},
   "outputs": [],
   "source": [
    "df_predicts2= pd.read_csv(\"Pred_Fine-Tuning.csv\",sep=',',index_col=0)"
   ]
  },
  {
   "cell_type": "markdown",
   "id": "bb566a60",
   "metadata": {},
   "source": [
    "### Analyse des résultats"
   ]
  },
  {
   "cell_type": "code",
   "execution_count": 78,
   "id": "d27fa36a",
   "metadata": {},
   "outputs": [
    {
     "name": "stdout",
     "output_type": "stream",
     "text": [
      "Matrice de confusion [[1535  394]\n",
      " [  75  159]]\n",
      "Pourcentage d'erreur 21.68284789644013\n",
      "F1-score du dnn pour MI : 37.50000000000001\n"
     ]
    }
   ],
   "source": [
    "cm = confusion_matrix(df_predicts2[\"MI\"], df_test[\"MI\"])\n",
    "Err = (cm[0,1] + cm[1,0]) / y_test.shape[0]*100\n",
    "print(\"Matrice de confusion\", cm)\n",
    "print(\"Pourcentage d'erreur\", Err)\n",
    "\n",
    "print(\"F1-score du dnn pour MI :\", f1_score(df_predicts[\"MI\"], df_test[\"MI\"])*100)"
   ]
  },
  {
   "cell_type": "code",
   "execution_count": 79,
   "id": "56d38538",
   "metadata": {},
   "outputs": [
    {
     "name": "stdout",
     "output_type": "stream",
     "text": [
      "Matrice de confusion [[1900  263]\n",
      " [   0    0]]\n",
      "Pourcentage d'erreur 12.159038372630606\n",
      "F1-score du dnn pour HYP : 0.0\n"
     ]
    }
   ],
   "source": [
    "cm = confusion_matrix(df_predicts2[\"HYP\"], df_test[\"HYP\"])\n",
    "Err = (cm[0,1] + cm[1,0]) / y_test.shape[0]*100\n",
    "print(\"Matrice de confusion\", cm)\n",
    "print(\"Pourcentage d'erreur\", Err)\n",
    "\n",
    "print(\"F1-score du dnn pour HYP :\", f1_score(df_predicts[\"HYP\"], df_test[\"HYP\"])*100)"
   ]
  },
  {
   "cell_type": "code",
   "execution_count": 80,
   "id": "e5008bc0",
   "metadata": {},
   "outputs": [
    {
     "name": "stdout",
     "output_type": "stream",
     "text": [
      "Matrice de confusion [[1623  239]\n",
      " [  42  259]]\n",
      "Pourcentage d'erreur 12.991215903837263\n",
      "F1-score du dnn pour CD : 59.012016021361816\n"
     ]
    }
   ],
   "source": [
    "cm = confusion_matrix(df_predicts2[\"CD\"], df_test[\"CD\"])\n",
    "Err = (cm[0,1] + cm[1,0]) / y_test.shape[0]*100\n",
    "print(\"Matrice de confusion\", cm)\n",
    "print(\"Pourcentage d'erreur\", Err)\n",
    "\n",
    "print(\"F1-score du dnn pour CD :\", f1_score(df_predicts[\"CD\"], df_test[\"CD\"])*100)"
   ]
  },
  {
   "cell_type": "code",
   "execution_count": 81,
   "id": "e625bea7",
   "metadata": {},
   "outputs": [
    {
     "name": "stdout",
     "output_type": "stream",
     "text": [
      "Matrice de confusion [[1585  420]\n",
      " [  55  103]]\n",
      "Pourcentage d'erreur 21.96024040684235\n",
      "F1-score du dnn pour STTC : 28.27380952380952\n"
     ]
    }
   ],
   "source": [
    "cm = confusion_matrix(df_predicts2[\"STTC\"], df_test[\"STTC\"])\n",
    "Err = (cm[0,1] + cm[1,0]) / y_test.shape[0]*100\n",
    "print(\"Matrice de confusion\", cm)\n",
    "print(\"Pourcentage d'erreur\", Err)\n",
    "\n",
    "print(\"F1-score du dnn pour STTC :\", f1_score(df_predicts[\"STTC\"], df_test[\"STTC\"])*100)"
   ]
  },
  {
   "cell_type": "markdown",
   "id": "b0ce237d",
   "metadata": {},
   "source": [
    "Même si on note une légère amélioration de la précision, les matrices de confusion montrent une fois de plus que notre classifieur n'arrive pas bien à prédire les anomalies.\n",
    "\n",
    "On trace ci-dessous les courbes Precision-Recall pour chaque anomalie prédite par le réseau. On ne trace pas les courbes ROC car le jeu de donnée compte bien plus de diagnostique négatif que de positif. Ainsi, la courbe roc n'a pas grand intérêt, puisqu'elle est composée de probabilité conditionnées sur la classe positive. Ainsi, elles resteront les mêmes quelque soit la valeur de la probabilité d'avoir un positif.\\\n",
    "Au contraire, la précision est conditionnée sur l'estimation d'avoir un positif. Ainsi, elle a bien plus d'intérêt dans notre cas où les données sont déséquilibrées.\n"
   ]
  },
  {
   "cell_type": "code",
   "execution_count": 61,
   "id": "ed1e7af9",
   "metadata": {},
   "outputs": [
    {
     "name": "stderr",
     "output_type": "stream",
     "text": [
      "C:\\Users\\anton\\.conda\\envs\\spyder\\lib\\site-packages\\sklearn\\metrics\\_ranking.py:864: RuntimeWarning: invalid value encountered in true_divide\n",
      "  recall = tps / tps[-1]\n"
     ]
    },
    {
     "data": {
      "image/png": "[encoded data removed]",
      "text/plain": [
       "<Figure size 936x648 with 1 Axes>"
      ]
     },
     "metadata": {
      "needs_background": "light"
     },
     "output_type": "display_data"
    }
   ],
   "source": [
    "plt.figure(figsize=(13,9))\n",
    "\n",
    "fper1, tper1, thresholds = precision_recall_curve(df_predicts2[\"MI\"], df_test[\"MI\"])\n",
    "fper2, tper2, thresholds = precision_recall_curve(df_predicts2[\"HYP\"], df_test[\"HYP\"])\n",
    "fper3, tper3, thresholds = precision_recall_curve(df_predicts2[\"CD\"], df_test[\"CD\"])\n",
    "fper4, tper4, thresholds = precision_recall_curve(df_predicts2[\"STTC\"], df_test[\"STTC\"])\n",
    "\n",
    "\n",
    "plt.plot(fper1, tper1, label='MI')\n",
    "plt.plot(fper2, tper2, label='HYP')\n",
    "plt.plot(fper3, tper3, label='CD')\n",
    "plt.plot(fper4, tper4, label='STTC')\n",
    "\n",
    "\n",
    "\n",
    "plt.xlabel('Recall')\n",
    "plt.ylabel('Precision')\n",
    "plt.title('Courbes PR')\n",
    "plt.legend()\n",
    "plt.show()\n",
    "\n"
   ]
  },
  {
   "cell_type": "markdown",
   "id": "135c012f",
   "metadata": {},
   "source": [
    "Aucune courbe ne s'affiche pour **HYP**. C'est normal car le réseau n'a prédit aucune anomalie de ce genre. \n",
    "\n",
    "Pour les autres maladies, la courbe confirme ce que l'on pensait précédemment. Notre DNN est très mauvais puisqu'il ne fait pas mieux ou à peine mieux qu'un classifieur qui classifierait les données aléatoirement (droite passant par les points $(0,1)$ et $(1,0)$).\n",
    "\n",
    "Ce phénomène est très certainement dû au fait que dans les données, il y a peu de diagnostics positifs comparé aux diagnostics négatifs. Cela se confirme nettement car l'anomalie la moins représentée dans les données, la **HYP** est celle dont le réseau n'arrive pas à prédire de cas positif. \n"
   ]
  },
  {
   "cell_type": "markdown",
   "id": "7343f055",
   "metadata": {},
   "source": [
    "Pour améliorer notre réseau de neuronne il y a plusieurs pistes d'amélioration. Tout d'abord, on pourrait essayer de mettre plus de poids sur les ECG dont le diagnostic est positif. Cela pourrait être réalisable par exemple en ajoutant une pénalisation sur la fonction de perte.\n",
    "\n",
    "Une autre idée aurait été d'essayer de corréler les nouvelles données avec les anciennes (avec une ACP par exemple), pour que le réseau puisse reconnaître des pattern dans les ECG, et ainsi mieux classer les données.\n",
    "\n",
    "Nous constatons toutefois que le réseau arrive quand même à prédire certaines pathologies. Cela s'explique aussi par le fait que les anomalies que nous souhaitons détecter ici sont des \"groupes\" d'anomalie. Ils contiennent en particulier des anomalies que le réseau entraîné de l'article Nature prédisait avant. Or, nous avons gardé les paramètres de ce réseau lors du trasnfert learning. Donc il se peut, que notre \"nouveau\" réseau arrive encore à reconnaître plusieurs de ces pathologies. Cela expliquerait en partie la détection de certaines maladies."
   ]
  }
 ],
 "metadata": {
  "kernelspec": {
   "display_name": "Python 3 (ipykernel)",
   "language": "python",
   "name": "python3"
  },
  "language_info": {
   "codemirror_mode": {
    "name": "ipython",
    "version": 3
   },
   "file_extension": ".py",
   "mimetype": "text/x-python",
   "name": "python",
   "nbconvert_exporter": "python",
   "pygments_lexer": "ipython3",
   "version": "3.8.12"
  }
 },
 "nbformat": 4,
 "nbformat_minor": 5
}
